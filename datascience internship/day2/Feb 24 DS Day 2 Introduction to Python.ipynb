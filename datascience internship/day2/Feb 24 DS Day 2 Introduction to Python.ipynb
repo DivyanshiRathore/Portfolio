{
 "cells": [
  {
   "cell_type": "code",
   "execution_count": 1,
   "id": "548498a8",
   "metadata": {},
   "outputs": [],
   "source": [
    "# no1 int \n",
    "# Name String "
   ]
  },
  {
   "cell_type": "code",
   "execution_count": 2,
   "id": "7c83dc81",
   "metadata": {},
   "outputs": [
    {
     "name": "stdout",
     "output_type": "stream",
     "text": [
      "<class 'int'>\n"
     ]
    }
   ],
   "source": [
    "x  =50\n",
    "print (type (x))"
   ]
  },
  {
   "cell_type": "code",
   "execution_count": 3,
   "id": "26904627",
   "metadata": {},
   "outputs": [
    {
     "name": "stdout",
     "output_type": "stream",
     "text": [
      "<class 'float'>\n"
     ]
    }
   ],
   "source": [
    "x  =50.85\n",
    "print (type (x))"
   ]
  },
  {
   "cell_type": "code",
   "execution_count": 4,
   "id": "b40bbf49",
   "metadata": {},
   "outputs": [
    {
     "name": "stdout",
     "output_type": "stream",
     "text": [
      "<class 'str'>\n"
     ]
    }
   ],
   "source": [
    "x  ='Sunday'\n",
    "print (type (x))"
   ]
  },
  {
   "cell_type": "code",
   "execution_count": 5,
   "id": "543b0ced",
   "metadata": {},
   "outputs": [
    {
     "name": "stdout",
     "output_type": "stream",
     "text": [
      "<class 'str'>\n"
     ]
    }
   ],
   "source": [
    "x  ='Sunday@*#2024'\n",
    "print (type (x))"
   ]
  },
  {
   "cell_type": "code",
   "execution_count": 6,
   "id": "a339a098",
   "metadata": {},
   "outputs": [
    {
     "name": "stdout",
     "output_type": "stream",
     "text": [
      "<class 'bool'>\n"
     ]
    }
   ],
   "source": [
    "x = True\n",
    "print (type (x))"
   ]
  },
  {
   "cell_type": "code",
   "execution_count": 7,
   "id": "55b794db",
   "metadata": {},
   "outputs": [
    {
     "name": "stdout",
     "output_type": "stream",
     "text": [
      "<class 'bool'>\n"
     ]
    }
   ],
   "source": [
    "x = False\n",
    "print (type (x))"
   ]
  },
  {
   "cell_type": "code",
   "execution_count": 8,
   "id": "21e9458e",
   "metadata": {},
   "outputs": [
    {
     "ename": "NameError",
     "evalue": "name 'false' is not defined",
     "output_type": "error",
     "traceback": [
      "\u001b[1;31m---------------------------------------------------------------------------\u001b[0m",
      "\u001b[1;31mNameError\u001b[0m                                 Traceback (most recent call last)",
      "Cell \u001b[1;32mIn [8], line 1\u001b[0m\n\u001b[1;32m----> 1\u001b[0m x \u001b[38;5;241m=\u001b[39m \u001b[43mfalse\u001b[49m\n\u001b[0;32m      2\u001b[0m \u001b[38;5;28mprint\u001b[39m (\u001b[38;5;28mtype\u001b[39m (x))\n",
      "\u001b[1;31mNameError\u001b[0m: name 'false' is not defined"
     ]
    }
   ],
   "source": [
    "x = false\n",
    "print (type (x))"
   ]
  },
  {
   "cell_type": "code",
   "execution_count": 9,
   "id": "8b1d588b",
   "metadata": {},
   "outputs": [
    {
     "name": "stdout",
     "output_type": "stream",
     "text": [
      "<class 'str'>\n"
     ]
    }
   ],
   "source": [
    "x = \"Yy\"\n",
    "print (type (x))"
   ]
  },
  {
   "cell_type": "code",
   "execution_count": 10,
   "id": "1540327d",
   "metadata": {},
   "outputs": [
    {
     "name": "stdout",
     "output_type": "stream",
     "text": [
      "<class 'str'>\n"
     ]
    }
   ],
   "source": [
    "x = \"false\"\n",
    "print (type (x))"
   ]
  },
  {
   "cell_type": "code",
   "execution_count": 12,
   "id": "9a18e46d",
   "metadata": {},
   "outputs": [
    {
     "name": "stdout",
     "output_type": "stream",
     "text": [
      "(10+5j)\n",
      "<class 'complex'>\n"
     ]
    }
   ],
   "source": [
    "x = 10+5j\n",
    "print (x)\n",
    "print (type (x))"
   ]
  },
  {
   "cell_type": "code",
   "execution_count": 13,
   "id": "a85cc448",
   "metadata": {},
   "outputs": [
    {
     "data": {
      "text/plain": [
       "False"
      ]
     },
     "execution_count": 13,
     "metadata": {},
     "output_type": "execute_result"
    }
   ],
   "source": [
    "False"
   ]
  },
  {
   "cell_type": "code",
   "execution_count": 14,
   "id": "a2f51545",
   "metadata": {},
   "outputs": [
    {
     "data": {
      "text/plain": [
       "True"
      ]
     },
     "execution_count": 14,
     "metadata": {},
     "output_type": "execute_result"
    }
   ],
   "source": [
    "True"
   ]
  },
  {
   "cell_type": "code",
   "execution_count": 15,
   "id": "38d74543",
   "metadata": {},
   "outputs": [],
   "source": [
    "age1 = 45\n",
    "age2 =37"
   ]
  },
  {
   "cell_type": "code",
   "execution_count": 17,
   "id": "78f7355c",
   "metadata": {},
   "outputs": [
    {
     "name": "stdout",
     "output_type": "stream",
     "text": [
      "<class 'list'>\n",
      "[45, 37, 31, 52]\n"
     ]
    }
   ],
   "source": [
    "age = [45,37,31,52]\n",
    "print (type (age))\n",
    "print (age)"
   ]
  },
  {
   "cell_type": "code",
   "execution_count": 18,
   "id": "c3d68a80",
   "metadata": {},
   "outputs": [
    {
     "data": {
      "text/plain": [
       "31"
      ]
     },
     "execution_count": 18,
     "metadata": {},
     "output_type": "execute_result"
    }
   ],
   "source": [
    "age [2]"
   ]
  },
  {
   "cell_type": "code",
   "execution_count": 19,
   "id": "e393ba75",
   "metadata": {},
   "outputs": [
    {
     "data": {
      "text/plain": [
       "31"
      ]
     },
     "execution_count": 19,
     "metadata": {},
     "output_type": "execute_result"
    }
   ],
   "source": [
    "age [-2]"
   ]
  },
  {
   "cell_type": "code",
   "execution_count": 20,
   "id": "27c23c49",
   "metadata": {},
   "outputs": [
    {
     "name": "stdout",
     "output_type": "stream",
     "text": [
      "<class 'list'>\n",
      "[45, 37, 31, 52, False, 'Sunday', 56.78]\n"
     ]
    }
   ],
   "source": [
    "age = [45,37,31,52, False , 'Sunday', 56.78]\n",
    "print (type (age))\n",
    "print (age)"
   ]
  },
  {
   "cell_type": "code",
   "execution_count": 21,
   "id": "d13fc1e2",
   "metadata": {},
   "outputs": [
    {
     "data": {
      "text/plain": [
       "[37, 31, 52, False]"
      ]
     },
     "execution_count": 21,
     "metadata": {},
     "output_type": "execute_result"
    }
   ],
   "source": [
    "age [1:5]"
   ]
  },
  {
   "cell_type": "code",
   "execution_count": 22,
   "id": "c928e8d8",
   "metadata": {},
   "outputs": [
    {
     "name": "stdout",
     "output_type": "stream",
     "text": [
      "<class 'list'>\n"
     ]
    }
   ],
   "source": [
    "age = [45,37,31,52]\n",
    "print (type (age))"
   ]
  },
  {
   "cell_type": "code",
   "execution_count": 23,
   "id": "9e04c52d",
   "metadata": {},
   "outputs": [
    {
     "name": "stdout",
     "output_type": "stream",
     "text": [
      "<class 'tuple'>\n"
     ]
    }
   ],
   "source": [
    "tage = (45,37,31,52)\n",
    "print (type (tage))"
   ]
  },
  {
   "cell_type": "code",
   "execution_count": 24,
   "id": "990ce96c",
   "metadata": {},
   "outputs": [
    {
     "data": {
      "text/plain": [
       "[45, 37, 31, 52]"
      ]
     },
     "execution_count": 24,
     "metadata": {},
     "output_type": "execute_result"
    }
   ],
   "source": [
    "age"
   ]
  },
  {
   "cell_type": "code",
   "execution_count": 26,
   "id": "0c765a5c",
   "metadata": {},
   "outputs": [],
   "source": [
    "age[1] =555"
   ]
  },
  {
   "cell_type": "code",
   "execution_count": 27,
   "id": "d29adf71",
   "metadata": {},
   "outputs": [
    {
     "data": {
      "text/plain": [
       "[45, 555, 31, 52]"
      ]
     },
     "execution_count": 27,
     "metadata": {},
     "output_type": "execute_result"
    }
   ],
   "source": [
    "age"
   ]
  },
  {
   "cell_type": "code",
   "execution_count": 28,
   "id": "632ce36f",
   "metadata": {},
   "outputs": [
    {
     "data": {
      "text/plain": [
       "(45, 37, 31, 52)"
      ]
     },
     "execution_count": 28,
     "metadata": {},
     "output_type": "execute_result"
    }
   ],
   "source": [
    "tage"
   ]
  },
  {
   "cell_type": "code",
   "execution_count": 29,
   "id": "5b2d816f",
   "metadata": {},
   "outputs": [
    {
     "data": {
      "text/plain": [
       "37"
      ]
     },
     "execution_count": 29,
     "metadata": {},
     "output_type": "execute_result"
    }
   ],
   "source": [
    "tage[1]"
   ]
  },
  {
   "cell_type": "code",
   "execution_count": 30,
   "id": "7fcc3baf",
   "metadata": {},
   "outputs": [
    {
     "ename": "TypeError",
     "evalue": "'tuple' object does not support item assignment",
     "output_type": "error",
     "traceback": [
      "\u001b[1;31m---------------------------------------------------------------------------\u001b[0m",
      "\u001b[1;31mTypeError\u001b[0m                                 Traceback (most recent call last)",
      "Cell \u001b[1;32mIn [30], line 1\u001b[0m\n\u001b[1;32m----> 1\u001b[0m tage[\u001b[38;5;241m1\u001b[39m] \u001b[38;5;241m=\u001b[39m\u001b[38;5;241m555\u001b[39m\n\u001b[0;32m      2\u001b[0m tage\n",
      "\u001b[1;31mTypeError\u001b[0m: 'tuple' object does not support item assignment"
     ]
    }
   ],
   "source": [
    "tage[1] =555\n",
    "tage"
   ]
  },
  {
   "cell_type": "code",
   "execution_count": 31,
   "id": "7c29be41",
   "metadata": {},
   "outputs": [
    {
     "name": "stdout",
     "output_type": "stream",
     "text": [
      "0\n",
      "1\n",
      "2\n",
      "3\n",
      "4\n"
     ]
    }
   ],
   "source": [
    "for i in range (5):\n",
    "    print (i)"
   ]
  },
  {
   "cell_type": "code",
   "execution_count": 32,
   "id": "cbb88411",
   "metadata": {},
   "outputs": [
    {
     "name": "stdout",
     "output_type": "stream",
     "text": [
      "0\n",
      "1\n",
      "2\n",
      "3\n",
      "4\n",
      "5\n",
      "6\n",
      "7\n",
      "8\n",
      "9\n"
     ]
    }
   ],
   "source": [
    "for i in range (10):\n",
    "    print (i)"
   ]
  },
  {
   "cell_type": "code",
   "execution_count": 33,
   "id": "6d54789a",
   "metadata": {},
   "outputs": [],
   "source": [
    "for i in range (-5):\n",
    "    print (i)"
   ]
  },
  {
   "cell_type": "code",
   "execution_count": 34,
   "id": "06d94611",
   "metadata": {},
   "outputs": [
    {
     "name": "stdout",
     "output_type": "stream",
     "text": [
      "0\n",
      "-1\n",
      "-2\n",
      "-3\n",
      "-4\n"
     ]
    }
   ],
   "source": [
    "for i in range (0,-5,-1):\n",
    "    print (i)"
   ]
  },
  {
   "cell_type": "code",
   "execution_count": 35,
   "id": "825e9ef5",
   "metadata": {},
   "outputs": [
    {
     "name": "stdout",
     "output_type": "stream",
     "text": [
      "10\n",
      "11\n",
      "12\n",
      "13\n",
      "14\n",
      "15\n",
      "16\n",
      "17\n",
      "18\n",
      "19\n"
     ]
    }
   ],
   "source": [
    "for i in range (10,20):\n",
    "    print (i)"
   ]
  },
  {
   "cell_type": "code",
   "execution_count": 36,
   "id": "574a5768",
   "metadata": {},
   "outputs": [
    {
     "name": "stdout",
     "output_type": "stream",
     "text": [
      "10\n",
      "20\n",
      "30\n",
      "40\n",
      "50\n",
      "60\n",
      "70\n",
      "80\n",
      "90\n"
     ]
    }
   ],
   "source": [
    "for i in range (10,100,10):\n",
    "    print (i)"
   ]
  },
  {
   "cell_type": "code",
   "execution_count": 38,
   "id": "db648a8d",
   "metadata": {},
   "outputs": [
    {
     "name": "stdout",
     "output_type": "stream",
     "text": [
      "10\n",
      "20\n",
      "30\n",
      "40\n",
      "50\n",
      "60\n",
      "70\n",
      "80\n",
      "90\n",
      "100\n"
     ]
    }
   ],
   "source": [
    "for i in range (10,101,10):\n",
    "    print (i)"
   ]
  },
  {
   "cell_type": "code",
   "execution_count": 39,
   "id": "c81a2b93",
   "metadata": {},
   "outputs": [
    {
     "name": "stdout",
     "output_type": "stream",
     "text": [
      "[10, 20, 30, 20, 30, 40, 20, 30, 50]\n"
     ]
    }
   ],
   "source": [
    "l1 = [10,20,30,20,30,40,20,30,50]\n",
    "print (l1)"
   ]
  },
  {
   "cell_type": "code",
   "execution_count": 40,
   "id": "64062036",
   "metadata": {},
   "outputs": [
    {
     "name": "stdout",
     "output_type": "stream",
     "text": [
      "(10, 20, 30, 20, 30, 40, 20, 30, 50)\n"
     ]
    }
   ],
   "source": [
    "t1= (10,20,30,20,30,40,20,30,50)\n",
    "print (t1)"
   ]
  },
  {
   "cell_type": "code",
   "execution_count": 41,
   "id": "977fedb7",
   "metadata": {},
   "outputs": [
    {
     "name": "stdout",
     "output_type": "stream",
     "text": [
      "{50, 20, 40, 10, 30}\n"
     ]
    }
   ],
   "source": [
    "s1= {10,20,30,20,30,40,20,30,50}\n",
    "print (s1)"
   ]
  },
  {
   "cell_type": "code",
   "execution_count": 42,
   "id": "8c3a92ea",
   "metadata": {},
   "outputs": [
    {
     "name": "stdout",
     "output_type": "stream",
     "text": [
      "{50, 20, 70, 40, 10, 30}\n"
     ]
    }
   ],
   "source": [
    "s1.add (70)\n",
    "print (s1)"
   ]
  },
  {
   "cell_type": "code",
   "execution_count": 43,
   "id": "dac03e37",
   "metadata": {},
   "outputs": [
    {
     "name": "stdout",
     "output_type": "stream",
     "text": [
      "frozenset({50, 20, 70, 40, 10, 30})\n"
     ]
    }
   ],
   "source": [
    "fs1 = frozenset (s1)\n",
    "print (fs1)"
   ]
  },
  {
   "cell_type": "code",
   "execution_count": 44,
   "id": "9bc2bb85",
   "metadata": {},
   "outputs": [
    {
     "data": {
      "text/plain": [
       "frozenset"
      ]
     },
     "execution_count": 44,
     "metadata": {},
     "output_type": "execute_result"
    }
   ],
   "source": [
    "type (fs1)"
   ]
  },
  {
   "cell_type": "code",
   "execution_count": 45,
   "id": "f6569f4c",
   "metadata": {},
   "outputs": [
    {
     "name": "stdout",
     "output_type": "stream",
     "text": [
      "<class 'dict'>\n"
     ]
    }
   ],
   "source": [
    "emp = {'Name': 'Sam', 'Age':50, 'Salary':5000}\n",
    "print (type (emp))"
   ]
  },
  {
   "cell_type": "code",
   "execution_count": 46,
   "id": "6f3cb9e2",
   "metadata": {},
   "outputs": [
    {
     "data": {
      "text/plain": [
       "50"
      ]
     },
     "execution_count": 46,
     "metadata": {},
     "output_type": "execute_result"
    }
   ],
   "source": [
    "emp ['Age']"
   ]
  },
  {
   "cell_type": "code",
   "execution_count": 47,
   "id": "44122ead",
   "metadata": {},
   "outputs": [
    {
     "data": {
      "text/plain": [
       "5000"
      ]
     },
     "execution_count": 47,
     "metadata": {},
     "output_type": "execute_result"
    }
   ],
   "source": [
    "emp ['Salary']"
   ]
  },
  {
   "cell_type": "code",
   "execution_count": 48,
   "id": "3de6b148",
   "metadata": {},
   "outputs": [
    {
     "name": "stdout",
     "output_type": "stream",
     "text": [
      "89.96\n"
     ]
    }
   ],
   "source": [
    "x = 89.96\n",
    "print (x)"
   ]
  },
  {
   "cell_type": "code",
   "execution_count": 49,
   "id": "de059c4e",
   "metadata": {},
   "outputs": [
    {
     "name": "stdout",
     "output_type": "stream",
     "text": [
      "89.96\n"
     ]
    },
    {
     "data": {
      "text/plain": [
       "89"
      ]
     },
     "execution_count": 49,
     "metadata": {},
     "output_type": "execute_result"
    }
   ],
   "source": [
    "x = 89.96\n",
    "print (x)\n",
    "int (x)"
   ]
  },
  {
   "cell_type": "code",
   "execution_count": 50,
   "id": "cfe88167",
   "metadata": {},
   "outputs": [
    {
     "name": "stdout",
     "output_type": "stream",
     "text": [
      "89.96\n"
     ]
    },
    {
     "data": {
      "text/plain": [
       "True"
      ]
     },
     "execution_count": 50,
     "metadata": {},
     "output_type": "execute_result"
    }
   ],
   "source": [
    "x = 89.96\n",
    "print (x)\n",
    "bool (x)"
   ]
  },
  {
   "cell_type": "code",
   "execution_count": 51,
   "id": "eac98f5c",
   "metadata": {},
   "outputs": [
    {
     "name": "stdout",
     "output_type": "stream",
     "text": [
      "50.5\n"
     ]
    },
    {
     "data": {
      "text/plain": [
       "True"
      ]
     },
     "execution_count": 51,
     "metadata": {},
     "output_type": "execute_result"
    }
   ],
   "source": [
    "x =50.5\n",
    "print (x)\n",
    "bool (x)"
   ]
  },
  {
   "cell_type": "code",
   "execution_count": 52,
   "id": "99350414",
   "metadata": {},
   "outputs": [
    {
     "name": "stdout",
     "output_type": "stream",
     "text": [
      "0\n"
     ]
    },
    {
     "data": {
      "text/plain": [
       "False"
      ]
     },
     "execution_count": 52,
     "metadata": {},
     "output_type": "execute_result"
    }
   ],
   "source": [
    "x =0\n",
    "print (x)\n",
    "bool (x)"
   ]
  },
  {
   "cell_type": "code",
   "execution_count": 53,
   "id": "17f7fa11",
   "metadata": {},
   "outputs": [
    {
     "name": "stdout",
     "output_type": "stream",
     "text": [
      "1e-13\n"
     ]
    },
    {
     "data": {
      "text/plain": [
       "True"
      ]
     },
     "execution_count": 53,
     "metadata": {},
     "output_type": "execute_result"
    }
   ],
   "source": [
    "x =0.0000000000001\n",
    "print (x)\n",
    "bool (x)"
   ]
  },
  {
   "cell_type": "code",
   "execution_count": 54,
   "id": "da17d798",
   "metadata": {},
   "outputs": [
    {
     "name": "stdout",
     "output_type": "stream",
     "text": [
      "0.0\n"
     ]
    },
    {
     "data": {
      "text/plain": [
       "False"
      ]
     },
     "execution_count": 54,
     "metadata": {},
     "output_type": "execute_result"
    }
   ],
   "source": [
    "x =0.000000000000\n",
    "print (x)\n",
    "bool (x)"
   ]
  },
  {
   "cell_type": "code",
   "execution_count": 55,
   "id": "107307e5",
   "metadata": {},
   "outputs": [
    {
     "name": "stdout",
     "output_type": "stream",
     "text": [
      "50.5\n"
     ]
    },
    {
     "data": {
      "text/plain": [
       "50"
      ]
     },
     "execution_count": 55,
     "metadata": {},
     "output_type": "execute_result"
    }
   ],
   "source": [
    "x =50.5\n",
    "print (x)\n",
    "int(x)"
   ]
  },
  {
   "cell_type": "code",
   "execution_count": 56,
   "id": "b6e7f41a",
   "metadata": {},
   "outputs": [
    {
     "data": {
      "text/plain": [
       "(10, 20, 30, 20, 30)"
      ]
     },
     "execution_count": 56,
     "metadata": {},
     "output_type": "execute_result"
    }
   ],
   "source": [
    "l1 = [10,20,30,20,30]\n",
    "tuple (l1)"
   ]
  },
  {
   "cell_type": "code",
   "execution_count": 57,
   "id": "4dc6a75a",
   "metadata": {},
   "outputs": [
    {
     "data": {
      "text/plain": [
       "{10, 20, 30}"
      ]
     },
     "execution_count": 57,
     "metadata": {},
     "output_type": "execute_result"
    }
   ],
   "source": [
    "set (l1)"
   ]
  },
  {
   "cell_type": "code",
   "execution_count": 58,
   "id": "9279be03",
   "metadata": {},
   "outputs": [
    {
     "name": "stdout",
     "output_type": "stream",
     "text": [
      "70\n"
     ]
    }
   ],
   "source": [
    "a =50\n",
    "b =20\n",
    "c = a+b\n",
    "print (c)"
   ]
  },
  {
   "cell_type": "code",
   "execution_count": 59,
   "id": "0d292676",
   "metadata": {},
   "outputs": [
    {
     "name": "stdout",
     "output_type": "stream",
     "text": [
      "30\n"
     ]
    }
   ],
   "source": [
    "a =50\n",
    "b =20\n",
    "c = a-b\n",
    "print (c)"
   ]
  },
  {
   "cell_type": "code",
   "execution_count": 60,
   "id": "7c6be1d7",
   "metadata": {},
   "outputs": [
    {
     "name": "stdout",
     "output_type": "stream",
     "text": [
      "-30\n"
     ]
    }
   ],
   "source": [
    "a =50\n",
    "b =20\n",
    "c = b-a\n",
    "print (c)"
   ]
  },
  {
   "cell_type": "code",
   "execution_count": 61,
   "id": "0d2e7970",
   "metadata": {},
   "outputs": [
    {
     "name": "stdout",
     "output_type": "stream",
     "text": [
      "1000\n"
     ]
    }
   ],
   "source": [
    "a =50\n",
    "b =20\n",
    "c = a*b\n",
    "print (c)"
   ]
  },
  {
   "cell_type": "code",
   "execution_count": 62,
   "id": "b1ce8c3d",
   "metadata": {},
   "outputs": [
    {
     "name": "stdout",
     "output_type": "stream",
     "text": [
      "2.5\n"
     ]
    }
   ],
   "source": [
    "a =50\n",
    "b =20\n",
    "c = a/b\n",
    "print (c)"
   ]
  },
  {
   "cell_type": "code",
   "execution_count": 63,
   "id": "37e20d02",
   "metadata": {},
   "outputs": [
    {
     "data": {
      "text/plain": [
       "10"
      ]
     },
     "execution_count": 63,
     "metadata": {},
     "output_type": "execute_result"
    }
   ],
   "source": [
    "50 %20"
   ]
  },
  {
   "cell_type": "code",
   "execution_count": 64,
   "id": "f9a260dc",
   "metadata": {},
   "outputs": [
    {
     "data": {
      "text/plain": [
       "2"
      ]
     },
     "execution_count": 64,
     "metadata": {},
     "output_type": "execute_result"
    }
   ],
   "source": [
    "50 // 20"
   ]
  },
  {
   "cell_type": "code",
   "execution_count": 65,
   "id": "ac46a5e8",
   "metadata": {},
   "outputs": [
    {
     "data": {
      "text/plain": [
       "3"
      ]
     },
     "execution_count": 65,
     "metadata": {},
     "output_type": "execute_result"
    }
   ],
   "source": [
    "38//10"
   ]
  },
  {
   "cell_type": "code",
   "execution_count": 66,
   "id": "963ae904",
   "metadata": {},
   "outputs": [
    {
     "data": {
      "text/plain": [
       "8"
      ]
     },
     "execution_count": 66,
     "metadata": {},
     "output_type": "execute_result"
    }
   ],
   "source": [
    "38 %10"
   ]
  },
  {
   "cell_type": "code",
   "execution_count": 67,
   "id": "1ef8fb2a",
   "metadata": {},
   "outputs": [
    {
     "data": {
      "text/plain": [
       "1024"
      ]
     },
     "execution_count": 67,
     "metadata": {},
     "output_type": "execute_result"
    }
   ],
   "source": [
    "2 *2*2*2 *2*2*2 *2*2*2"
   ]
  },
  {
   "cell_type": "code",
   "execution_count": 68,
   "id": "8eddf922",
   "metadata": {},
   "outputs": [
    {
     "data": {
      "text/plain": [
       "1024"
      ]
     },
     "execution_count": 68,
     "metadata": {},
     "output_type": "execute_result"
    }
   ],
   "source": [
    "2**10"
   ]
  },
  {
   "cell_type": "code",
   "execution_count": 69,
   "id": "f0ec1492",
   "metadata": {},
   "outputs": [
    {
     "name": "stdout",
     "output_type": "stream",
     "text": [
      "70\n"
     ]
    }
   ],
   "source": [
    "a =50\n",
    "b =20\n",
    "a= a+b\n",
    "print (a)"
   ]
  },
  {
   "cell_type": "code",
   "execution_count": 70,
   "id": "92dfd38e",
   "metadata": {},
   "outputs": [
    {
     "name": "stdout",
     "output_type": "stream",
     "text": [
      "70\n"
     ]
    }
   ],
   "source": [
    "a =50\n",
    "b =20\n",
    "a+=b\n",
    "print (a)"
   ]
  },
  {
   "cell_type": "code",
   "execution_count": 71,
   "id": "2186acac",
   "metadata": {},
   "outputs": [
    {
     "name": "stdout",
     "output_type": "stream",
     "text": [
      "30\n"
     ]
    }
   ],
   "source": [
    "a =50\n",
    "b =20\n",
    "a-=b\n",
    "print (a)"
   ]
  },
  {
   "cell_type": "code",
   "execution_count": 72,
   "id": "c0eddd8e",
   "metadata": {},
   "outputs": [
    {
     "name": "stdout",
     "output_type": "stream",
     "text": [
      "-30\n"
     ]
    }
   ],
   "source": [
    "a =50\n",
    "b =20\n",
    "b-=a\n",
    "print (b)"
   ]
  },
  {
   "cell_type": "code",
   "execution_count": 73,
   "id": "7cb3a99d",
   "metadata": {},
   "outputs": [
    {
     "name": "stdout",
     "output_type": "stream",
     "text": [
      "1000\n"
     ]
    }
   ],
   "source": [
    "a =50\n",
    "b =20\n",
    "a*=b\n",
    "print (a)"
   ]
  },
  {
   "cell_type": "code",
   "execution_count": 74,
   "id": "00a849c2",
   "metadata": {},
   "outputs": [
    {
     "name": "stdout",
     "output_type": "stream",
     "text": [
      "2.5\n"
     ]
    }
   ],
   "source": [
    "a =50\n",
    "b =20\n",
    "a/=b\n",
    "print (a)"
   ]
  },
  {
   "cell_type": "code",
   "execution_count": 75,
   "id": "4383a4f4",
   "metadata": {},
   "outputs": [
    {
     "name": "stdout",
     "output_type": "stream",
     "text": [
      "2\n"
     ]
    }
   ],
   "source": [
    "a =50\n",
    "b =20\n",
    "a//=b\n",
    "print (a)"
   ]
  },
  {
   "cell_type": "code",
   "execution_count": 76,
   "id": "7f0bc0e2",
   "metadata": {},
   "outputs": [
    {
     "name": "stdout",
     "output_type": "stream",
     "text": [
      "10\n"
     ]
    }
   ],
   "source": [
    "a =50\n",
    "b =20\n",
    "a %=b\n",
    "print (a)"
   ]
  },
  {
   "cell_type": "code",
   "execution_count": 77,
   "id": "966d77ac",
   "metadata": {},
   "outputs": [
    {
     "name": "stdout",
     "output_type": "stream",
     "text": [
      "9536743164062500000000000000000000\n"
     ]
    }
   ],
   "source": [
    "a =50\n",
    "b =20\n",
    "a **=b\n",
    "print (a)"
   ]
  },
  {
   "cell_type": "code",
   "execution_count": 78,
   "id": "1e6fe59f",
   "metadata": {},
   "outputs": [
    {
     "name": "stdout",
     "output_type": "stream",
     "text": [
      "True\n"
     ]
    }
   ],
   "source": [
    "a = 500\n",
    "b = 500\n",
    "print (a==b)"
   ]
  },
  {
   "cell_type": "code",
   "execution_count": 79,
   "id": "e331ae25",
   "metadata": {},
   "outputs": [
    {
     "name": "stdout",
     "output_type": "stream",
     "text": [
      "False\n"
     ]
    }
   ],
   "source": [
    "a = 500\n",
    "b = 400\n",
    "print (a==b)"
   ]
  },
  {
   "cell_type": "code",
   "execution_count": 80,
   "id": "ae542a3c",
   "metadata": {},
   "outputs": [
    {
     "name": "stdout",
     "output_type": "stream",
     "text": [
      "True\n"
     ]
    }
   ],
   "source": [
    "a = 500\n",
    "b = 400\n",
    "print (a!=b)"
   ]
  },
  {
   "cell_type": "code",
   "execution_count": 81,
   "id": "5bc35189",
   "metadata": {},
   "outputs": [
    {
     "name": "stdout",
     "output_type": "stream",
     "text": [
      "False\n"
     ]
    }
   ],
   "source": [
    "a = 500\n",
    "b = 500\n",
    "print (a<b)"
   ]
  },
  {
   "cell_type": "code",
   "execution_count": 82,
   "id": "99a250f9",
   "metadata": {},
   "outputs": [
    {
     "name": "stdout",
     "output_type": "stream",
     "text": [
      "True\n"
     ]
    }
   ],
   "source": [
    "a = 500\n",
    "b = 500\n",
    "print (a<=b)"
   ]
  },
  {
   "cell_type": "code",
   "execution_count": 84,
   "id": "2c102d1b",
   "metadata": {},
   "outputs": [
    {
     "name": "stdout",
     "output_type": "stream",
     "text": [
      "True\n",
      "False\n"
     ]
    }
   ],
   "source": [
    "a = 500\n",
    "b = 200\n",
    "c = 300\n",
    "print (a >b)\n",
    "print (b>c)"
   ]
  },
  {
   "cell_type": "code",
   "execution_count": 85,
   "id": "0ac09fa1",
   "metadata": {},
   "outputs": [
    {
     "name": "stdout",
     "output_type": "stream",
     "text": [
      "False\n"
     ]
    }
   ],
   "source": [
    "print ((a >b) and (b>c))"
   ]
  },
  {
   "cell_type": "code",
   "execution_count": 86,
   "id": "8dc658d7",
   "metadata": {},
   "outputs": [
    {
     "name": "stdout",
     "output_type": "stream",
     "text": [
      "True\n"
     ]
    }
   ],
   "source": [
    "print ((a >b) or (b>c))"
   ]
  },
  {
   "cell_type": "code",
   "execution_count": 87,
   "id": "f39daebe",
   "metadata": {},
   "outputs": [
    {
     "name": "stdout",
     "output_type": "stream",
     "text": [
      "False\n"
     ]
    }
   ],
   "source": [
    "print (not((a >b) or (b>c)))"
   ]
  },
  {
   "cell_type": "code",
   "execution_count": 88,
   "id": "5ab885e2",
   "metadata": {},
   "outputs": [
    {
     "name": "stdout",
     "output_type": "stream",
     "text": [
      "500 500 500\n"
     ]
    }
   ],
   "source": [
    "a  =500\n",
    "b = 500\n",
    "c =a\n",
    "print (a,b,c)"
   ]
  },
  {
   "cell_type": "code",
   "execution_count": 90,
   "id": "a8ec50ef",
   "metadata": {},
   "outputs": [
    {
     "name": "stdout",
     "output_type": "stream",
     "text": [
      "False\n",
      "True\n"
     ]
    }
   ],
   "source": [
    "print (a is b)\n",
    "print (a is c)"
   ]
  },
  {
   "cell_type": "code",
   "execution_count": 91,
   "id": "59ae15f3",
   "metadata": {},
   "outputs": [
    {
     "name": "stdout",
     "output_type": "stream",
     "text": [
      "1915398679088 1915398679440 1915398679088\n"
     ]
    }
   ],
   "source": [
    "print (id(a), id (b), id (c))"
   ]
  },
  {
   "cell_type": "code",
   "execution_count": 92,
   "id": "7d57be66",
   "metadata": {},
   "outputs": [
    {
     "name": "stdout",
     "output_type": "stream",
     "text": [
      "True\n",
      "1915285825936\n",
      "1915285825936\n"
     ]
    }
   ],
   "source": [
    "a = 256\n",
    "b = 256\n",
    "print (a is b)\n",
    "print ( id(a))\n",
    "print ( id(b))"
   ]
  },
  {
   "cell_type": "code",
   "execution_count": 93,
   "id": "f9eea798",
   "metadata": {},
   "outputs": [
    {
     "name": "stdout",
     "output_type": "stream",
     "text": [
      "False\n",
      "1915398679504\n",
      "1915398679408\n"
     ]
    }
   ],
   "source": [
    "a = 257\n",
    "b = 257\n",
    "print (a is b)\n",
    "print ( id(a))\n",
    "print ( id(b))"
   ]
  },
  {
   "cell_type": "code",
   "execution_count": 99,
   "id": "55b60493",
   "metadata": {},
   "outputs": [
    {
     "name": "stdout",
     "output_type": "stream",
     "text": [
      "1915398505216 1915398523712 1915398505216\n"
     ]
    }
   ],
   "source": [
    "x = [\"apple\", \"banana\"]\n",
    "y = [\"apple\", \"banana\"]\n",
    "z = x\n",
    "print (id(x), id (y), id (z))"
   ]
  },
  {
   "cell_type": "code",
   "execution_count": 100,
   "id": "4f04bad4",
   "metadata": {},
   "outputs": [
    {
     "name": "stdout",
     "output_type": "stream",
     "text": [
      "['apple', 'banana', 'Orange']\n",
      "['apple', 'banana']\n",
      "['apple', 'banana', 'Orange']\n"
     ]
    }
   ],
   "source": [
    "x.append ('Orange')\n",
    "print (x)\n",
    "print (y)\n",
    "print (z)"
   ]
  },
  {
   "cell_type": "code",
   "execution_count": 101,
   "id": "7703b92b",
   "metadata": {},
   "outputs": [
    {
     "name": "stdout",
     "output_type": "stream",
     "text": [
      "1915398505216 1915398523712 1915398505216\n"
     ]
    }
   ],
   "source": [
    "print (id(x), id (y), id (z))"
   ]
  },
  {
   "cell_type": "code",
   "execution_count": 102,
   "id": "f7d0539f",
   "metadata": {},
   "outputs": [
    {
     "name": "stdout",
     "output_type": "stream",
     "text": [
      "True\n"
     ]
    }
   ],
   "source": [
    "l1 = [10,20,30,20,30]\n",
    "print (20 in l1)"
   ]
  },
  {
   "cell_type": "code",
   "execution_count": 103,
   "id": "5f2d4578",
   "metadata": {},
   "outputs": [
    {
     "name": "stdout",
     "output_type": "stream",
     "text": [
      "False\n"
     ]
    }
   ],
   "source": [
    "print (20 not in l1)"
   ]
  },
  {
   "cell_type": "code",
   "execution_count": 104,
   "id": "83dffc33",
   "metadata": {},
   "outputs": [
    {
     "name": "stdout",
     "output_type": "stream",
     "text": [
      "False\n"
     ]
    }
   ],
   "source": [
    "l1 = [10,20,30,20,30]\n",
    "print (35 in l1)"
   ]
  },
  {
   "cell_type": "code",
   "execution_count": null,
   "id": "a7bded4b",
   "metadata": {},
   "outputs": [],
   "source": []
  },
  {
   "cell_type": "code",
   "execution_count": null,
   "id": "daf0a2c9",
   "metadata": {},
   "outputs": [],
   "source": []
  },
  {
   "cell_type": "code",
   "execution_count": null,
   "id": "8c2a2ac1",
   "metadata": {},
   "outputs": [],
   "source": []
  }
 ],
 "metadata": {
  "kernelspec": {
   "display_name": "Python 3 (ipykernel)",
   "language": "python",
   "name": "python3"
  },
  "language_info": {
   "codemirror_mode": {
    "name": "ipython",
    "version": 3
   },
   "file_extension": ".py",
   "mimetype": "text/x-python",
   "name": "python",
   "nbconvert_exporter": "python",
   "pygments_lexer": "ipython3",
   "version": "3.9.15"
  }
 },
 "nbformat": 4,
 "nbformat_minor": 5
}
