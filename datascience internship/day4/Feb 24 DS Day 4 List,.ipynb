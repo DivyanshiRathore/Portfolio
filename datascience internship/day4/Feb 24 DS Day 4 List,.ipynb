{
 "cells": [
  {
   "cell_type": "code",
   "execution_count": 1,
   "id": "44d659e0",
   "metadata": {},
   "outputs": [],
   "source": [
    "List  =[]\n",
    "Tuple = ()\n",
    "Set ={}\n",
    "Dictionary = {'Key': 'Value'}"
   ]
  },
  {
   "cell_type": "code",
   "execution_count": 2,
   "id": "889c8347",
   "metadata": {},
   "outputs": [
    {
     "name": "stdout",
     "output_type": "stream",
     "text": [
      "[10, 20, 40, 20, 40.845, [52, 53, 54], (60, 61, 62)]\n"
     ]
    }
   ],
   "source": [
    "l1 =[10,20,40,20,40.845,[52,53,54], (60,61,62) ]\n",
    "print (l1)"
   ]
  },
  {
   "cell_type": "code",
   "execution_count": 3,
   "id": "5e79cf9e",
   "metadata": {},
   "outputs": [
    {
     "data": {
      "text/plain": [
       "7"
      ]
     },
     "execution_count": 3,
     "metadata": {},
     "output_type": "execute_result"
    }
   ],
   "source": [
    "len (l1)"
   ]
  },
  {
   "cell_type": "code",
   "execution_count": 4,
   "id": "3344d301",
   "metadata": {},
   "outputs": [
    {
     "data": {
      "text/plain": [
       "[52, 53, 54]"
      ]
     },
     "execution_count": 4,
     "metadata": {},
     "output_type": "execute_result"
    }
   ],
   "source": [
    "l1[5]"
   ]
  },
  {
   "cell_type": "code",
   "execution_count": 5,
   "id": "df8b9368",
   "metadata": {},
   "outputs": [
    {
     "data": {
      "text/plain": [
       "[20, 40, 20]"
      ]
     },
     "execution_count": 5,
     "metadata": {},
     "output_type": "execute_result"
    }
   ],
   "source": [
    "l1[1:4]"
   ]
  },
  {
   "cell_type": "code",
   "execution_count": 6,
   "id": "cde36b35",
   "metadata": {},
   "outputs": [
    {
     "data": {
      "text/plain": [
       "[50, 51, 52]"
      ]
     },
     "execution_count": 6,
     "metadata": {},
     "output_type": "execute_result"
    }
   ],
   "source": [
    "list1 = [50,51,52]\n",
    "list1"
   ]
  },
  {
   "cell_type": "code",
   "execution_count": 7,
   "id": "6d5c7635",
   "metadata": {},
   "outputs": [
    {
     "name": "stdout",
     "output_type": "stream",
     "text": [
      "[50, 51, 52, 100, 110, 120, 50, 51, 52]\n"
     ]
    }
   ],
   "source": [
    "list2 = [100,110,120]\n",
    "print (list1+list2+[50,51,52])\n"
   ]
  },
  {
   "cell_type": "code",
   "execution_count": 9,
   "id": "e08da42f",
   "metadata": {},
   "outputs": [
    {
     "data": {
      "text/plain": [
       "[50, 51, 52, 50, 51, 52]"
      ]
     },
     "execution_count": 9,
     "metadata": {},
     "output_type": "execute_result"
    }
   ],
   "source": [
    "list1 *2"
   ]
  },
  {
   "cell_type": "code",
   "execution_count": 11,
   "id": "53643b2c",
   "metadata": {},
   "outputs": [
    {
     "data": {
      "text/plain": [
       "[100, 110, 120]"
      ]
     },
     "execution_count": 11,
     "metadata": {},
     "output_type": "execute_result"
    }
   ],
   "source": [
    "list2"
   ]
  },
  {
   "cell_type": "code",
   "execution_count": 12,
   "id": "3a6cba51",
   "metadata": {},
   "outputs": [
    {
     "name": "stdout",
     "output_type": "stream",
     "text": [
      "False\n"
     ]
    }
   ],
   "source": [
    "print (150 in list2)"
   ]
  },
  {
   "cell_type": "code",
   "execution_count": 13,
   "id": "5ab77750",
   "metadata": {},
   "outputs": [
    {
     "name": "stdout",
     "output_type": "stream",
     "text": [
      "True\n"
     ]
    }
   ],
   "source": [
    "print (100 in list2)"
   ]
  },
  {
   "cell_type": "code",
   "execution_count": 14,
   "id": "a98f27e9",
   "metadata": {},
   "outputs": [
    {
     "name": "stdout",
     "output_type": "stream",
     "text": [
      "[50, 51, 52, 60]\n"
     ]
    }
   ],
   "source": [
    "l1 = [50, 51,52,60]\n",
    "print (l1)"
   ]
  },
  {
   "cell_type": "code",
   "execution_count": 15,
   "id": "260865fe",
   "metadata": {},
   "outputs": [
    {
     "name": "stdout",
     "output_type": "stream",
     "text": [
      "[50, 51, 52, 60, 70]\n"
     ]
    }
   ],
   "source": [
    "l1.append (70)\n",
    "print (l1)"
   ]
  },
  {
   "cell_type": "code",
   "execution_count": 17,
   "id": "512802f8",
   "metadata": {},
   "outputs": [
    {
     "name": "stdout",
     "output_type": "stream",
     "text": [
      "[50, 51, 52, 60, 70, [80, 81, 84]]\n"
     ]
    }
   ],
   "source": [
    "l1.append ([80,81,84])\n",
    "print (l1)"
   ]
  },
  {
   "cell_type": "code",
   "execution_count": 18,
   "id": "8fcddc09",
   "metadata": {},
   "outputs": [
    {
     "data": {
      "text/plain": [
       "[80, 81, 84]"
      ]
     },
     "execution_count": 18,
     "metadata": {},
     "output_type": "execute_result"
    }
   ],
   "source": [
    "l1[5]"
   ]
  },
  {
   "cell_type": "code",
   "execution_count": 19,
   "id": "91de91fd",
   "metadata": {},
   "outputs": [
    {
     "name": "stdout",
     "output_type": "stream",
     "text": [
      "[50, 51, 52, 60]\n"
     ]
    }
   ],
   "source": [
    "l1 = [50, 51,52,60]\n",
    "print (l1)"
   ]
  },
  {
   "cell_type": "code",
   "execution_count": 21,
   "id": "9265b5d1",
   "metadata": {},
   "outputs": [
    {
     "name": "stdout",
     "output_type": "stream",
     "text": [
      "[50, 777, 51, 52, 60]\n"
     ]
    }
   ],
   "source": [
    "l1 = [50, 51,52,60]\n",
    "l1.insert (1,777)\n",
    "print (l1)"
   ]
  },
  {
   "cell_type": "code",
   "execution_count": 22,
   "id": "ba9f9aac",
   "metadata": {},
   "outputs": [
    {
     "name": "stdout",
     "output_type": "stream",
     "text": [
      "[50, 85, 51, 52, 60]\n"
     ]
    }
   ],
   "source": [
    "l1 = [50, 51,52,60]\n",
    "l1.insert (1,85)\n",
    "print (l1)"
   ]
  },
  {
   "cell_type": "code",
   "execution_count": 23,
   "id": "9bb2ba18",
   "metadata": {},
   "outputs": [
    {
     "name": "stdout",
     "output_type": "stream",
     "text": [
      "[50, 51, 52, 60, 40, 41, 42, 43]\n"
     ]
    }
   ],
   "source": [
    "l1 = [50, 51,52,60]\n",
    "l1.extend([40,41,42,43])\n",
    "print (l1)"
   ]
  },
  {
   "cell_type": "code",
   "execution_count": 24,
   "id": "d5efb2a5",
   "metadata": {},
   "outputs": [
    {
     "ename": "NameError",
     "evalue": "name 'l1' is not defined",
     "output_type": "error",
     "traceback": [
      "\u001b[1;31m---------------------------------------------------------------------------\u001b[0m",
      "\u001b[1;31mNameError\u001b[0m                                 Traceback (most recent call last)",
      "Cell \u001b[1;32mIn[24], line 3\u001b[0m\n\u001b[0;32m      1\u001b[0m l1 \u001b[38;5;241m=\u001b[39m [\u001b[38;5;241m50\u001b[39m, \u001b[38;5;241m51\u001b[39m,\u001b[38;5;241m52\u001b[39m,\u001b[38;5;241m60\u001b[39m]\n\u001b[0;32m      2\u001b[0m \u001b[38;5;28;01mdel\u001b[39;00m (l1)\n\u001b[1;32m----> 3\u001b[0m \u001b[38;5;28mprint\u001b[39m (l1)\n",
      "\u001b[1;31mNameError\u001b[0m: name 'l1' is not defined"
     ]
    }
   ],
   "source": [
    "l1 = [50, 51,52,60]\n",
    "del (l1)\n",
    "print (l1)"
   ]
  },
  {
   "cell_type": "code",
   "execution_count": 25,
   "id": "1bf0eabe",
   "metadata": {},
   "outputs": [
    {
     "name": "stdout",
     "output_type": "stream",
     "text": [
      "[]\n"
     ]
    }
   ],
   "source": [
    "l1 = [50, 51,52,60]\n",
    "l1.clear()\n",
    "print (l1)"
   ]
  },
  {
   "cell_type": "code",
   "execution_count": 26,
   "id": "601e42b2",
   "metadata": {},
   "outputs": [
    {
     "name": "stdout",
     "output_type": "stream",
     "text": [
      "[50, 52, 60]\n"
     ]
    }
   ],
   "source": [
    "l1 = [50, 51,52,60]\n",
    "del(l1[1])\n",
    "print (l1)"
   ]
  },
  {
   "cell_type": "code",
   "execution_count": 27,
   "id": "90c63841",
   "metadata": {},
   "outputs": [
    {
     "name": "stdout",
     "output_type": "stream",
     "text": [
      "[50, 52, 60, 65, 74, 85]\n"
     ]
    }
   ],
   "source": [
    "l1 = [50, 51,52,60,65,74,85]\n",
    "del(l1[1])\n",
    "print (l1)"
   ]
  },
  {
   "cell_type": "code",
   "execution_count": 28,
   "id": "7ab2d0a3",
   "metadata": {},
   "outputs": [
    {
     "name": "stdout",
     "output_type": "stream",
     "text": [
      "[50, 74, 85]\n"
     ]
    }
   ],
   "source": [
    "l1 = [50, 51,52,60,65,74,85]\n",
    "del(l1[1:5])\n",
    "print (l1)"
   ]
  },
  {
   "cell_type": "code",
   "execution_count": 29,
   "id": "43b19432",
   "metadata": {},
   "outputs": [
    {
     "name": "stdout",
     "output_type": "stream",
     "text": [
      "[]\n"
     ]
    }
   ],
   "source": [
    "l1 = [50, 51,52,60,65,74,85]\n",
    "del(l1[0:7])\n",
    "print (l1)"
   ]
  },
  {
   "cell_type": "code",
   "execution_count": 30,
   "id": "52613edc",
   "metadata": {},
   "outputs": [
    {
     "name": "stdout",
     "output_type": "stream",
     "text": [
      "[]\n"
     ]
    }
   ],
   "source": [
    "l1 = [50, 51,52,60,65,74,85]\n",
    "del(l1[:])\n",
    "print (l1)"
   ]
  },
  {
   "cell_type": "code",
   "execution_count": 31,
   "id": "60927f16",
   "metadata": {},
   "outputs": [
    {
     "name": "stdout",
     "output_type": "stream",
     "text": [
      "[50, 51, 52, 65, 74, 85]\n"
     ]
    }
   ],
   "source": [
    "l1 = [50, 51,52,60,65,74,85]\n",
    "l1.remove (60)\n",
    "print (l1)"
   ]
  },
  {
   "cell_type": "code",
   "execution_count": 32,
   "id": "cd73ba98",
   "metadata": {},
   "outputs": [
    {
     "name": "stdout",
     "output_type": "stream",
     "text": [
      "[50, 51, 52, 60, 65, 74, 85]\n"
     ]
    }
   ],
   "source": [
    "l1 = [50, 51,60,52,60,65,74,85]\n",
    "l1.remove (60)\n",
    "print (l1)"
   ]
  },
  {
   "cell_type": "code",
   "execution_count": 33,
   "id": "3da53e9a",
   "metadata": {},
   "outputs": [
    {
     "name": "stdout",
     "output_type": "stream",
     "text": [
      "[50, 51, 60, 65, 74, 85]\n"
     ]
    }
   ],
   "source": [
    "l1 = [50, 51,52,60,65,74,85]\n",
    "r1 =l1.pop (2)\n",
    "print (l1)"
   ]
  },
  {
   "cell_type": "code",
   "execution_count": 34,
   "id": "c6a28880",
   "metadata": {},
   "outputs": [
    {
     "data": {
      "text/plain": [
       "52"
      ]
     },
     "execution_count": 34,
     "metadata": {},
     "output_type": "execute_result"
    }
   ],
   "source": [
    "r1"
   ]
  },
  {
   "cell_type": "code",
   "execution_count": 36,
   "id": "74305e5a",
   "metadata": {},
   "outputs": [
    {
     "name": "stdout",
     "output_type": "stream",
     "text": [
      "[2, 4, 6, 8, 10]\n"
     ]
    }
   ],
   "source": [
    "\n",
    "list1 = []\n",
    "for x in [1,2,3,4,5]:\n",
    "    list1.append (x * 2)\n",
    "print (list1)\n",
    "\n"
   ]
  },
  {
   "cell_type": "code",
   "execution_count": 37,
   "id": "50b461d5",
   "metadata": {},
   "outputs": [
    {
     "data": {
      "text/plain": [
       "[2, 4, 6, 8, 10]"
      ]
     },
     "execution_count": 37,
     "metadata": {},
     "output_type": "execute_result"
    }
   ],
   "source": [
    "[x * 2 for x in [1,2,3,4,5]]"
   ]
  },
  {
   "cell_type": "code",
   "execution_count": 38,
   "id": "5eafe1f6",
   "metadata": {},
   "outputs": [
    {
     "name": "stdout",
     "output_type": "stream",
     "text": [
      "['Rick', 'Jim', 'Mark', 'Jack', 'Ken']\n",
      "['Jack', 'Jim', 'Ken', 'Mark', 'Rick']\n"
     ]
    }
   ],
   "source": [
    "list1 = ['Rick','Jim','Mark','Jack','Ken']\n",
    "list2 = sorted (list1)\n",
    "print (list1)\n",
    "print (list2)\n"
   ]
  },
  {
   "cell_type": "code",
   "execution_count": 40,
   "id": "37b0136b",
   "metadata": {},
   "outputs": [
    {
     "name": "stdout",
     "output_type": "stream",
     "text": [
      "['Rick', 'Jim', 'Mark', '10', '50', '60', 'Jack', 'jack', 'Ken']\n",
      "\n",
      "['10', '50', '60', 'Jack', 'Jim', 'Ken', 'Mark', 'Rick', 'jack']\n"
     ]
    }
   ],
   "source": [
    "list1 = ['Rick','Jim','Mark','10','50','60','Jack','jack','Ken']\n",
    "list2 = sorted (list1)\n",
    "print (list1)\n",
    "print ()\n",
    "print (list2)\n"
   ]
  },
  {
   "cell_type": "code",
   "execution_count": 41,
   "id": "7d8c47c8",
   "metadata": {},
   "outputs": [
    {
     "ename": "TypeError",
     "evalue": "'<' not supported between instances of 'int' and 'str'",
     "output_type": "error",
     "traceback": [
      "\u001b[1;31m---------------------------------------------------------------------------\u001b[0m",
      "\u001b[1;31mTypeError\u001b[0m                                 Traceback (most recent call last)",
      "Cell \u001b[1;32mIn[41], line 2\u001b[0m\n\u001b[0;32m      1\u001b[0m list1 \u001b[38;5;241m=\u001b[39m [\u001b[38;5;124m'\u001b[39m\u001b[38;5;124mRick\u001b[39m\u001b[38;5;124m'\u001b[39m,\u001b[38;5;124m'\u001b[39m\u001b[38;5;124mJim\u001b[39m\u001b[38;5;124m'\u001b[39m,\u001b[38;5;124m'\u001b[39m\u001b[38;5;124mMark\u001b[39m\u001b[38;5;124m'\u001b[39m,\u001b[38;5;124m'\u001b[39m\u001b[38;5;124m10\u001b[39m\u001b[38;5;124m'\u001b[39m,\u001b[38;5;124m'\u001b[39m\u001b[38;5;124m50\u001b[39m\u001b[38;5;124m'\u001b[39m,\u001b[38;5;241m500\u001b[39m,\u001b[38;5;124m'\u001b[39m\u001b[38;5;124m60\u001b[39m\u001b[38;5;124m'\u001b[39m,\u001b[38;5;124m'\u001b[39m\u001b[38;5;124mJack\u001b[39m\u001b[38;5;124m'\u001b[39m,\u001b[38;5;124m'\u001b[39m\u001b[38;5;124mjack\u001b[39m\u001b[38;5;124m'\u001b[39m,\u001b[38;5;124m'\u001b[39m\u001b[38;5;124mKen\u001b[39m\u001b[38;5;124m'\u001b[39m]\n\u001b[1;32m----> 2\u001b[0m list2 \u001b[38;5;241m=\u001b[39m \u001b[38;5;28msorted\u001b[39m (list1)\n\u001b[0;32m      3\u001b[0m \u001b[38;5;28mprint\u001b[39m (list1)\n\u001b[0;32m      4\u001b[0m \u001b[38;5;28mprint\u001b[39m ()\n",
      "\u001b[1;31mTypeError\u001b[0m: '<' not supported between instances of 'int' and 'str'"
     ]
    }
   ],
   "source": [
    "list1 = ['Rick','Jim','Mark','10','50',500,'60','Jack','jack','Ken']\n",
    "list2 = sorted (list1)\n",
    "print (list1)\n",
    "print ()\n",
    "print (list2)"
   ]
  },
  {
   "cell_type": "code",
   "execution_count": 42,
   "id": "40723b47",
   "metadata": {},
   "outputs": [
    {
     "name": "stdout",
     "output_type": "stream",
     "text": [
      "[10, 20, 30, 15, 12, 40, 22, 12]\n",
      "\n",
      "[10, 12, 12, 15, 20, 22, 30, 40]\n"
     ]
    }
   ],
   "source": [
    "x = [10,20,30,15,12,40,22,12]\n",
    "sortx= sorted(x)\n",
    "print (x) # No change to original list\n",
    "print ()\n",
    "print (sortx)\n"
   ]
  },
  {
   "cell_type": "code",
   "execution_count": 44,
   "id": "787b6175",
   "metadata": {},
   "outputs": [
    {
     "name": "stdout",
     "output_type": "stream",
     "text": [
      "[10, 12, 12, 15, 20, 22, 30, 40]\n"
     ]
    }
   ],
   "source": [
    "x = [10,20,30,15,12,40,22,12]\n",
    "x.sort()\n",
    "print (x) # No change to original list\n"
   ]
  },
  {
   "cell_type": "code",
   "execution_count": 46,
   "id": "c0573740",
   "metadata": {},
   "outputs": [
    {
     "data": {
      "text/plain": [
       "['Rick', 'Jim', 'Mark', '10', '50', 500, '60', 'Jack', 'jack', 'Ken']"
      ]
     },
     "execution_count": 46,
     "metadata": {},
     "output_type": "execute_result"
    }
   ],
   "source": [
    "list1"
   ]
  },
  {
   "cell_type": "code",
   "execution_count": 45,
   "id": "e7206a63",
   "metadata": {},
   "outputs": [
    {
     "name": "stdout",
     "output_type": "stream",
     "text": [
      "['Ken', 'jack', 'Jack', '60', 500, '50', '10', 'Mark', 'Jim', 'Rick']\n"
     ]
    }
   ],
   "source": [
    "print (list1[::-1])"
   ]
  },
  {
   "cell_type": "code",
   "execution_count": 47,
   "id": "b42426ee",
   "metadata": {},
   "outputs": [
    {
     "name": "stdout",
     "output_type": "stream",
     "text": [
      "['50', '10']\n"
     ]
    }
   ],
   "source": [
    "print (list1[4:2:-1])"
   ]
  },
  {
   "cell_type": "code",
   "execution_count": 48,
   "id": "cf619528",
   "metadata": {},
   "outputs": [
    {
     "data": {
      "text/plain": [
       "['Red', 'Blue', 'Green', 'Black', 'White']"
      ]
     },
     "execution_count": 48,
     "metadata": {},
     "output_type": "execute_result"
    }
   ],
   "source": [
    "colors = ['Red', 'Blue', 'Green', 'Black', 'White']\n",
    "colors"
   ]
  },
  {
   "cell_type": "code",
   "execution_count": 49,
   "id": "c2119c98",
   "metadata": {},
   "outputs": [
    {
     "data": {
      "text/plain": [
       "'Red'"
      ]
     },
     "execution_count": 49,
     "metadata": {},
     "output_type": "execute_result"
    }
   ],
   "source": [
    "first_col = colors[0]\n",
    "first_col"
   ]
  },
  {
   "cell_type": "code",
   "execution_count": 50,
   "id": "c6b6b4ab",
   "metadata": {},
   "outputs": [
    {
     "data": {
      "text/plain": [
       "'Blue'"
      ]
     },
     "execution_count": 50,
     "metadata": {},
     "output_type": "execute_result"
    }
   ],
   "source": [
    "second_col = colors[1]\n",
    "second_col"
   ]
  },
  {
   "cell_type": "code",
   "execution_count": 52,
   "id": "539e5d48",
   "metadata": {},
   "outputs": [
    {
     "data": {
      "text/plain": [
       "['Red', 'Blue', 'Green', 'Black', 'White']"
      ]
     },
     "execution_count": 52,
     "metadata": {},
     "output_type": "execute_result"
    }
   ],
   "source": [
    "colors"
   ]
  },
  {
   "cell_type": "code",
   "execution_count": 53,
   "id": "838e2c2b",
   "metadata": {},
   "outputs": [],
   "source": [
    "colors[0] = 'Yellow'\n",
    "colors[-2] = 'Red'\n"
   ]
  },
  {
   "cell_type": "code",
   "execution_count": 54,
   "id": "9505cf07",
   "metadata": {},
   "outputs": [
    {
     "data": {
      "text/plain": [
       "['Yellow', 'Blue', 'Green', 'Red', 'White']"
      ]
     },
     "execution_count": 54,
     "metadata": {},
     "output_type": "execute_result"
    }
   ],
   "source": [
    "colors"
   ]
  },
  {
   "cell_type": "code",
   "execution_count": 55,
   "id": "725c0a7b",
   "metadata": {},
   "outputs": [
    {
     "data": {
      "text/plain": [
       "['Yellow', 'Blue', 'Green', 'Red', 'White']"
      ]
     },
     "execution_count": 55,
     "metadata": {},
     "output_type": "execute_result"
    }
   ],
   "source": [
    "colors"
   ]
  },
  {
   "cell_type": "code",
   "execution_count": 56,
   "id": "923d6358",
   "metadata": {},
   "outputs": [
    {
     "name": "stdout",
     "output_type": "stream",
     "text": [
      "We have 5 colors.\n"
     ]
    }
   ],
   "source": [
    "num_colors = len(colors)\n",
    "print(\"We have \" + str(num_colors) + \" colors.\")\n"
   ]
  },
  {
   "cell_type": "code",
   "execution_count": 57,
   "id": "6d1f80b0",
   "metadata": {},
   "outputs": [
    {
     "data": {
      "text/plain": [
       "['Yellow', 'Blue', 'Green', 'Red', 'White']"
      ]
     },
     "execution_count": 57,
     "metadata": {},
     "output_type": "execute_result"
    }
   ],
   "source": [
    "colors"
   ]
  },
  {
   "cell_type": "code",
   "execution_count": 58,
   "id": "23f385bd",
   "metadata": {},
   "outputs": [],
   "source": [
    "colors.sort()"
   ]
  },
  {
   "cell_type": "code",
   "execution_count": 59,
   "id": "207c6e48",
   "metadata": {},
   "outputs": [
    {
     "data": {
      "text/plain": [
       "['Blue', 'Green', 'Red', 'White', 'Yellow']"
      ]
     },
     "execution_count": 59,
     "metadata": {},
     "output_type": "execute_result"
    }
   ],
   "source": [
    "colors"
   ]
  },
  {
   "cell_type": "code",
   "execution_count": 60,
   "id": "58151b49",
   "metadata": {},
   "outputs": [
    {
     "name": "stdout",
     "output_type": "stream",
     "text": [
      "['Yellow', 'White', 'Red', 'Green', 'Blue']\n"
     ]
    }
   ],
   "source": [
    "colors.sort(reverse=True)\n",
    "print (colors)\n"
   ]
  },
  {
   "cell_type": "code",
   "execution_count": 61,
   "id": "a95a36cc",
   "metadata": {},
   "outputs": [
    {
     "data": {
      "text/plain": [
       "[23, 22, 44, 17, 77, 55, 1, 65, 82, 2]"
      ]
     },
     "execution_count": 61,
     "metadata": {},
     "output_type": "execute_result"
    }
   ],
   "source": [
    "nums = [23, 22, 44, 17, 77, 55, 1, 65, 82, 2]\n",
    "nums\n",
    "\n"
   ]
  },
  {
   "cell_type": "code",
   "execution_count": 62,
   "id": "616694d1",
   "metadata": {},
   "outputs": [
    {
     "data": {
      "text/plain": [
       "1"
      ]
     },
     "execution_count": 62,
     "metadata": {},
     "output_type": "execute_result"
    }
   ],
   "source": [
    "num_min = min(nums)\n",
    "num_min"
   ]
  },
  {
   "cell_type": "code",
   "execution_count": 63,
   "id": "26fa1636",
   "metadata": {},
   "outputs": [
    {
     "data": {
      "text/plain": [
       "82"
      ]
     },
     "execution_count": 63,
     "metadata": {},
     "output_type": "execute_result"
    }
   ],
   "source": [
    "num_min = max(nums)\n",
    "num_min"
   ]
  },
  {
   "cell_type": "code",
   "execution_count": 64,
   "id": "efbff773",
   "metadata": {},
   "outputs": [
    {
     "data": {
      "text/plain": [
       "388"
      ]
     },
     "execution_count": 64,
     "metadata": {},
     "output_type": "execute_result"
    }
   ],
   "source": [
    "num_min = sum(nums)\n",
    "num_min"
   ]
  },
  {
   "cell_type": "code",
   "execution_count": 66,
   "id": "16ef48d9",
   "metadata": {},
   "outputs": [
    {
     "data": {
      "text/plain": [
       "[1, 4, 9, 16, 25, 36, 49, 64, 81, 100]"
      ]
     },
     "execution_count": 66,
     "metadata": {},
     "output_type": "execute_result"
    }
   ],
   "source": [
    "squr = []\n",
    "for x in range(1, 11):\n",
    "    sq= x**2\n",
    "    squr.append(sq)\n",
    "squr"
   ]
  },
  {
   "cell_type": "code",
   "execution_count": 67,
   "id": "f634e268",
   "metadata": {},
   "outputs": [
    {
     "data": {
      "text/plain": [
       "[1, 4, 9, 16, 25, 36, 49, 64, 81, 100]"
      ]
     },
     "execution_count": 67,
     "metadata": {},
     "output_type": "execute_result"
    }
   ],
   "source": [
    "[x**2 for x in range(1, 11) ]"
   ]
  },
  {
   "cell_type": "code",
   "execution_count": 68,
   "id": "2b8d7a8d",
   "metadata": {},
   "outputs": [
    {
     "data": {
      "text/plain": [
       "['RED', 'BLUE', 'GREEN', 'BLACK', 'WHITE']"
      ]
     },
     "execution_count": 68,
     "metadata": {},
     "output_type": "execute_result"
    }
   ],
   "source": [
    "colors = ['Red', 'Blue', 'Green', 'Black', 'White']\n",
    "upper_cols = []\n",
    "for cols in colors:\n",
    "    upper_cols.append(cols.upper())\n",
    "upper_cols"
   ]
  },
  {
   "cell_type": "code",
   "execution_count": 69,
   "id": "8a877fde",
   "metadata": {},
   "outputs": [
    {
     "data": {
      "text/plain": [
       "['red', 'blue', 'green', 'black', 'white']"
      ]
     },
     "execution_count": 69,
     "metadata": {},
     "output_type": "execute_result"
    }
   ],
   "source": [
    "colors = ['Red', 'Blue', 'Green', 'Black', 'White']\n",
    "upper_cols = []\n",
    "for cols in colors:\n",
    "    upper_cols.append(cols.lower())\n",
    "upper_cols"
   ]
  },
  {
   "cell_type": "code",
   "execution_count": null,
   "id": "61e29024",
   "metadata": {},
   "outputs": [],
   "source": []
  },
  {
   "cell_type": "code",
   "execution_count": null,
   "id": "84d34cfe",
   "metadata": {},
   "outputs": [],
   "source": []
  },
  {
   "cell_type": "code",
   "execution_count": null,
   "id": "321e605a",
   "metadata": {},
   "outputs": [],
   "source": []
  }
 ],
 "metadata": {
  "kernelspec": {
   "display_name": "Python 3 (ipykernel)",
   "language": "python",
   "name": "python3"
  },
  "language_info": {
   "codemirror_mode": {
    "name": "ipython",
    "version": 3
   },
   "file_extension": ".py",
   "mimetype": "text/x-python",
   "name": "python",
   "nbconvert_exporter": "python",
   "pygments_lexer": "ipython3",
   "version": "3.11.5"
  }
 },
 "nbformat": 4,
 "nbformat_minor": 5
}
