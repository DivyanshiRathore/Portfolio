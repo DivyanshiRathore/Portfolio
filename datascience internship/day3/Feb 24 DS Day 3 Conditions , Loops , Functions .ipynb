{
 "cells": [
  {
   "cell_type": "code",
   "execution_count": 1,
   "id": "a07d0b17",
   "metadata": {},
   "outputs": [
    {
     "name": "stdout",
     "output_type": "stream",
     "text": [
      "300\n",
      "300 is greater than 200\n"
     ]
    }
   ],
   "source": [
    "a = 300\n",
    "b = 200\n",
    "if a>b:\n",
    "    print (a)\n",
    "    print ( a, 'is greater than',b)"
   ]
  },
  {
   "cell_type": "code",
   "execution_count": 2,
   "id": "277696d2",
   "metadata": {},
   "outputs": [],
   "source": [
    "a = 300\n",
    "b = 400\n",
    "if a>b:\n",
    "    print (a)\n",
    "    print ( a, 'is greater than',b)"
   ]
  },
  {
   "cell_type": "code",
   "execution_count": 3,
   "id": "01cf9d9a",
   "metadata": {},
   "outputs": [
    {
     "name": "stdout",
     "output_type": "stream",
     "text": [
      "500\n",
      "500 is greater than or Equal 500\n"
     ]
    }
   ],
   "source": [
    "a = 500\n",
    "b = 500\n",
    "if a>=b:\n",
    "    print (a)\n",
    "    print ( a, 'is greater than or Equal',b)"
   ]
  },
  {
   "cell_type": "code",
   "execution_count": 4,
   "id": "31d92da7",
   "metadata": {},
   "outputs": [
    {
     "name": "stdout",
     "output_type": "stream",
     "text": [
      "500\n",
      "500 is greater than or Equal 500\n",
      "500\n",
      "500 is greater than or Equal 500\n"
     ]
    }
   ],
   "source": [
    "a = 500\n",
    "b = 500\n",
    "if a>=b:\n",
    "    print (a)\n",
    "    print ( a, 'is greater than or Equal',b)\n",
    "if b>=a:\n",
    "    print (b)\n",
    "    print ( b, 'is greater than or Equal',a)"
   ]
  },
  {
   "cell_type": "code",
   "execution_count": 6,
   "id": "d4d67413",
   "metadata": {},
   "outputs": [
    {
     "name": "stdout",
     "output_type": "stream",
     "text": [
      "500\n",
      "500 is greater than or Equal 500\n",
      "500\n",
      "500 is greater than or Equal 500\n",
      "500 500\n",
      "500 is same as  500\n"
     ]
    }
   ],
   "source": [
    "a = 500\n",
    "b = 500\n",
    "if a>=b:\n",
    "    print (a)\n",
    "    print ( a, 'is greater than or Equal',b)\n",
    "if b>=a:\n",
    "    print (b)\n",
    "    print ( b, 'is greater than or Equal',a)\n",
    "if a ==b:\n",
    "    print (a, b)\n",
    "    print ( a, 'is same as ',b)"
   ]
  },
  {
   "cell_type": "code",
   "execution_count": 7,
   "id": "1331079d",
   "metadata": {},
   "outputs": [
    {
     "name": "stdout",
     "output_type": "stream",
     "text": [
      "500\n",
      "500 is greater than or Equal 500\n"
     ]
    }
   ],
   "source": [
    "a = 500\n",
    "b = 500\n",
    "if a>=b:\n",
    "    print (a)\n",
    "    print ( a, 'is greater than or Equal',b)\n",
    "elif b>=a:\n",
    "    print (b)\n",
    "    print ( b, 'is greater than or Equal',a)\n",
    "elif a ==b:\n",
    "    print (a, b)\n",
    "    print ( a, 'is same as ',b)"
   ]
  },
  {
   "cell_type": "code",
   "execution_count": 8,
   "id": "46c5016e",
   "metadata": {},
   "outputs": [
    {
     "name": "stdout",
     "output_type": "stream",
     "text": [
      "300 Greater than 200\n"
     ]
    }
   ],
   "source": [
    "a =300\n",
    "if a <100:\n",
    "    print (a,'Less than 100')\n",
    "elif (100<= a <=200):\n",
    "    print (a,'is between 100 and 200')\n",
    "else:\n",
    "    print (a,'Greater than 200')\n",
    "\n"
   ]
  },
  {
   "cell_type": "code",
   "execution_count": 9,
   "id": "c27ed38f",
   "metadata": {},
   "outputs": [
    {
     "name": "stdout",
     "output_type": "stream",
     "text": [
      "50 Less than 100\n"
     ]
    }
   ],
   "source": [
    "a =50\n",
    "if a <100:\n",
    "    print (a,'Less than 100')\n",
    "elif (100<= a <=200):\n",
    "    print (a,'is between 100 and 200')\n",
    "else:\n",
    "    print (a,'Greater than 200')"
   ]
  },
  {
   "cell_type": "code",
   "execution_count": 10,
   "id": "eba953eb",
   "metadata": {},
   "outputs": [
    {
     "name": "stdout",
     "output_type": "stream",
     "text": [
      "40 Less than 100\n",
      "40 is between 20 and 50\n"
     ]
    }
   ],
   "source": [
    "a =40\n",
    "if a <100:\n",
    "    print (a,'Less than 100')\n",
    "    if (50<= a <=100):\n",
    "        print (a,'is between 50 and 100')\n",
    "    elif (20<= a <=50):\n",
    "        print (a,'is between 20 and 50')\n",
    "    else:\n",
    "        print (a,'is less than 20')\n",
    "               \n",
    "elif (20<= a <=200):\n",
    "    print (a,'is between 50 and 200')\n",
    "else:\n",
    "    print (a,'Greater than 200')\n"
   ]
  },
  {
   "cell_type": "code",
   "execution_count": 11,
   "id": "908fa3cd",
   "metadata": {},
   "outputs": [
    {
     "name": "stdout",
     "output_type": "stream",
     "text": [
      "50 Less than 100\n",
      "120\n",
      "Today is  Sat\n"
     ]
    }
   ],
   "source": [
    "Day = 'Sat'\n",
    "a =50\n",
    "if a <100:\n",
    "    print (a,'Less than 100')\n",
    "elif (100<= a <=200):\n",
    "    print (a,'is between 100 and 200')\n",
    "else:\n",
    "    print (a,'Greater than 200')\n",
    "a = 50\n",
    "b = 70\n",
    "x = a+b \n",
    "print (x)\n",
    "print ('Today is ',Day)"
   ]
  },
  {
   "cell_type": "code",
   "execution_count": 12,
   "id": "f50a4ddf",
   "metadata": {},
   "outputs": [
    {
     "name": "stdout",
     "output_type": "stream",
     "text": [
      "40 Less than 100\n",
      "40 is between 20 and 50\n"
     ]
    }
   ],
   "source": [
    "a =40\n",
    "if a <100:\n",
    "    print (a,'Less than 100')\n",
    "    if (50<= a <=100):\n",
    "        print (a,'is between 50 and 100')\n",
    "    elif (20<= a <=50):\n",
    "        print (a,'is between 20 and 50')\n",
    "    else:\n",
    "        print (a,'is less than 20')               \n",
    "elif (20<= a <=200):\n",
    "    print (a,'is between 50 and 200')\n",
    "else:\n",
    "    print (a,'Greater than 200')\n"
   ]
  },
  {
   "cell_type": "code",
   "execution_count": 13,
   "id": "af14950c",
   "metadata": {},
   "outputs": [
    {
     "name": "stdout",
     "output_type": "stream",
     "text": [
      "500 Greater than 200\n"
     ]
    }
   ],
   "source": [
    "a =500\n",
    "if a <100:\n",
    "    print (a,'Less than 100')\n",
    "    if (50<= a <=100):\n",
    "        print (a,'is between 50 and 100')\n",
    "    elif (20<= a <=50):\n",
    "        print (a,'is between 20 and 50')\n",
    "    else:\n",
    "        print (a,'is less than 20')               \n",
    "elif (20<= a <=200):\n",
    "    print (a,'is between 50 and 200')\n",
    "else:\n",
    "    print (a,'Greater than 200')"
   ]
  },
  {
   "cell_type": "code",
   "execution_count": 14,
   "id": "495e16b9",
   "metadata": {},
   "outputs": [
    {
     "name": "stdout",
     "output_type": "stream",
     "text": [
      "75 Less than 100\n",
      "75 is between 50 and 100\n"
     ]
    }
   ],
   "source": [
    "a =75\n",
    "if a <100:\n",
    "    print (a,'Less than 100')\n",
    "    if (50<= a <=100):\n",
    "        print (a,'is between 50 and 100')\n",
    "    elif (20<= a <=50):\n",
    "        print (a,'is between 20 and 50')\n",
    "    else:\n",
    "        print (a,'is less than 20')               \n",
    "elif (20<= a <=200):\n",
    "    print (a,'is between 50 and 200')\n",
    "else:\n",
    "    print (a,'Greater than 200')"
   ]
  },
  {
   "cell_type": "code",
   "execution_count": 17,
   "id": "dd29ab29",
   "metadata": {},
   "outputs": [
    {
     "name": "stdout",
     "output_type": "stream",
     "text": [
      "75 Less than 100\n",
      "75 is between 50 and 100\n"
     ]
    }
   ],
   "source": [
    "a =75\n",
    "if a <100:\n",
    "    print (a,'Less than 100')\n",
    "    if (50<= a <=100):\n",
    "        print (a,'is between 50 and 100')\n",
    "    elif (20<= a <=50):\n",
    "        print (a,'is between 20 and 50')\n",
    "    else:\n",
    "        print (a,'is less than 20')               \n",
    "elif (20<= a <=200):\n",
    "    print (a,'is between 50 and 200')\n",
    "else:\n",
    "    print (a,'Greater than 200')"
   ]
  },
  {
   "cell_type": "code",
   "execution_count": 18,
   "id": "82ce2d48",
   "metadata": {},
   "outputs": [
    {
     "name": "stdout",
     "output_type": "stream",
     "text": [
      "150 is smaller than 200\n"
     ]
    }
   ],
   "source": [
    "a = 150\n",
    "b = 200\n",
    "if a<b:\n",
    "    print (a,'is smaller than',b)\n",
    "    if 10 <= a <=100:\n",
    "        print (a,'is between 10 and 100')\n",
    "    elif a<10:\n",
    "        print (a,'is less than 10')\n",
    "    \n",
    "else:\n",
    "    print (a,'is bigger number than',b)\n",
    "\n"
   ]
  },
  {
   "cell_type": "code",
   "execution_count": 19,
   "id": "e2a748bc",
   "metadata": {},
   "outputs": [],
   "source": [
    "# For  - Fixed number of times  -Add 5 numbers\n",
    "# While  - Execute based condition - As long as condition true - Add numbers till sum reaches 100"
   ]
  },
  {
   "cell_type": "code",
   "execution_count": 20,
   "id": "703de523",
   "metadata": {},
   "outputs": [
    {
     "name": "stdout",
     "output_type": "stream",
     "text": [
      "Enter the first number 50\n",
      "Enter the Second number 60\n",
      "5060\n"
     ]
    }
   ],
   "source": [
    "no1 = input ('Enter the first number ')\n",
    "no2 = input ('Enter the Second number ')\n",
    "total =  no1+no2\n",
    "print (total )"
   ]
  },
  {
   "cell_type": "code",
   "execution_count": 21,
   "id": "b2592d92",
   "metadata": {},
   "outputs": [
    {
     "name": "stdout",
     "output_type": "stream",
     "text": [
      "Enter the first number 50\n",
      "Enter the Second number 60\n",
      "110\n"
     ]
    }
   ],
   "source": [
    "no1 = input ('Enter the first number ')\n",
    "no2 = input ('Enter the Second number ')\n",
    "total =  int (no1)+ int (no2)\n",
    "print (total )"
   ]
  },
  {
   "cell_type": "code",
   "execution_count": 22,
   "id": "8dfd18f3",
   "metadata": {},
   "outputs": [
    {
     "name": "stdout",
     "output_type": "stream",
     "text": [
      "<class 'str'>\n"
     ]
    }
   ],
   "source": [
    "print (type (no1))"
   ]
  },
  {
   "cell_type": "code",
   "execution_count": 23,
   "id": "85b50886",
   "metadata": {},
   "outputs": [
    {
     "name": "stdout",
     "output_type": "stream",
     "text": [
      "0\n",
      "1\n",
      "2\n",
      "3\n",
      "4\n"
     ]
    }
   ],
   "source": [
    "for i in range (5):\n",
    "    print (i)"
   ]
  },
  {
   "cell_type": "code",
   "execution_count": 26,
   "id": "9efa6a6a",
   "metadata": {},
   "outputs": [
    {
     "name": "stdout",
     "output_type": "stream",
     "text": [
      "Enter the number 50\n",
      "Enter the number 60\n",
      "Enter the number 70\n",
      "Enter the number 20\n",
      "Enter the number 5\n",
      "Sum of 5 numbers is  205\n"
     ]
    }
   ],
   "source": [
    "total =0\n",
    "for i in range (5):\n",
    "    no = int (input ('Enter the number '))\n",
    "    total = total +no\n",
    "print ('Sum of 5 numbers is ', total )   "
   ]
  },
  {
   "cell_type": "code",
   "execution_count": 27,
   "id": "4f2cbce6",
   "metadata": {},
   "outputs": [
    {
     "name": "stdout",
     "output_type": "stream",
     "text": [
      "Enter the number 3\n",
      "Enter the number 2\n",
      "Enter the number 1\n",
      "Enter the number 3\n",
      "Enter the number 2\n",
      "Sum of 5 numbers is  11\n"
     ]
    }
   ],
   "source": [
    "total =0\n",
    "for i in range (5):\n",
    "    no = int (input ('Enter the number '))\n",
    "    total = total +no\n",
    "print ('Sum of 5 numbers is ', total )   "
   ]
  },
  {
   "cell_type": "code",
   "execution_count": 28,
   "id": "4fb86e72",
   "metadata": {},
   "outputs": [
    {
     "name": "stdout",
     "output_type": "stream",
     "text": [
      "Enter the number 52\n",
      "Enter the number 60\n",
      "Sum of 5 numbers is  112\n"
     ]
    }
   ],
   "source": [
    "total =0\n",
    "while total < 100:\n",
    "    no = int (input ('Enter the number '))\n",
    "    total = total +no\n",
    "print ('Sum of 5 numbers is ', total )   "
   ]
  },
  {
   "cell_type": "code",
   "execution_count": 29,
   "id": "223481bb",
   "metadata": {},
   "outputs": [
    {
     "name": "stdout",
     "output_type": "stream",
     "text": [
      "Enter the number 10\n",
      "Enter the number 1\n",
      "Enter the number 3\n",
      "Enter the number 53\n",
      "Enter the number 6\n",
      "Enter the number 3\n",
      "Enter the number 2\n",
      "Enter the number 4\n",
      "Enter the number 3\n",
      "Enter the number 5\n",
      "Enter the number 10\n",
      "Sum of 5 numbers is  100\n"
     ]
    }
   ],
   "source": [
    "total =0\n",
    "while total < 100:\n",
    "    no = int (input ('Enter the number '))\n",
    "    total = total +no\n",
    "print ('Sum of 5 numbers is ', total )   "
   ]
  },
  {
   "cell_type": "code",
   "execution_count": 30,
   "id": "86715d96",
   "metadata": {},
   "outputs": [
    {
     "name": "stdout",
     "output_type": "stream",
     "text": [
      "The number is  1\n",
      "The number is  2\n",
      "The number is  3\n",
      "The number is  4\n",
      "Program end\n"
     ]
    }
   ],
   "source": [
    "a =1\n",
    "while a <5:\n",
    "    print ( 'The number is ',a)\n",
    "    a+=1\n",
    "print ('Program end')\n"
   ]
  },
  {
   "cell_type": "code",
   "execution_count": 31,
   "id": "4a9311a8",
   "metadata": {},
   "outputs": [
    {
     "name": "stdout",
     "output_type": "stream",
     "text": [
      "The number is  1\n",
      "The number is  2\n",
      "The number is  3\n",
      "The number is  4\n",
      "The number is  5\n",
      "The number is  6\n",
      "The number is  7\n",
      "The number is  8\n",
      "The number is  9\n",
      "Program end\n"
     ]
    }
   ],
   "source": [
    "a =1\n",
    "while a <10:\n",
    "    print ( 'The number is ',a)\n",
    "    a+=1\n",
    "print ('Program end')\n"
   ]
  },
  {
   "cell_type": "code",
   "execution_count": 32,
   "id": "ef13174e",
   "metadata": {},
   "outputs": [
    {
     "name": "stdout",
     "output_type": "stream",
     "text": [
      "The number is  1\n",
      "The number is  4\n",
      "The number is  7\n",
      "Program end\n"
     ]
    }
   ],
   "source": [
    "a =1\n",
    "while a <10:\n",
    "    print ( 'The number is ',a)\n",
    "    a+=3\n",
    "print ('Program end')"
   ]
  },
  {
   "cell_type": "code",
   "execution_count": 33,
   "id": "227e1763",
   "metadata": {},
   "outputs": [
    {
     "name": "stdout",
     "output_type": "stream",
     "text": [
      "0\n",
      "1\n",
      "2\n",
      "3\n",
      "Good Day\n"
     ]
    }
   ],
   "source": [
    "\n",
    "A = [10,15,20,25]\n",
    "for i in range (len(A)):\n",
    "    print (i)\n",
    "print ('Good Day')\n",
    "\n"
   ]
  },
  {
   "cell_type": "code",
   "execution_count": 34,
   "id": "bb29293f",
   "metadata": {},
   "outputs": [
    {
     "name": "stdout",
     "output_type": "stream",
     "text": [
      "10\n",
      "15\n",
      "20\n",
      "25\n",
      "Good Day\n"
     ]
    }
   ],
   "source": [
    "\n",
    "A = [10,15,20,25]\n",
    "for i in A:\n",
    "    print (i)\n",
    "print ('Good Day')\n"
   ]
  },
  {
   "cell_type": "code",
   "execution_count": 36,
   "id": "7620bdd0",
   "metadata": {},
   "outputs": [
    {
     "name": "stdout",
     "output_type": "stream",
     "text": [
      "0\n",
      "1\n",
      "2\n",
      "3\n",
      "4\n",
      "5\n",
      "6\n",
      "7\n",
      "8\n",
      "9\n"
     ]
    }
   ],
   "source": [
    "for i in range (10):\n",
    "    print (i)"
   ]
  },
  {
   "cell_type": "code",
   "execution_count": 37,
   "id": "b989d63f",
   "metadata": {},
   "outputs": [
    {
     "data": {
      "text/plain": [
       "'Sat Sat Sat '"
      ]
     },
     "execution_count": 37,
     "metadata": {},
     "output_type": "execute_result"
    }
   ],
   "source": [
    "'Sat '*3"
   ]
  },
  {
   "cell_type": "code",
   "execution_count": 39,
   "id": "ffc64a1a",
   "metadata": {},
   "outputs": [
    {
     "data": {
      "text/plain": [
       "'4444'"
      ]
     },
     "execution_count": 39,
     "metadata": {},
     "output_type": "execute_result"
    }
   ],
   "source": [
    "str (4) *4"
   ]
  },
  {
   "cell_type": "code",
   "execution_count": 40,
   "id": "1d7590ed",
   "metadata": {},
   "outputs": [
    {
     "data": {
      "text/plain": [
       "''"
      ]
     },
     "execution_count": 40,
     "metadata": {},
     "output_type": "execute_result"
    }
   ],
   "source": [
    "str (0) *0"
   ]
  },
  {
   "cell_type": "code",
   "execution_count": null,
   "id": "570828ce",
   "metadata": {},
   "outputs": [],
   "source": []
  },
  {
   "cell_type": "code",
   "execution_count": 35,
   "id": "0a86aaf9",
   "metadata": {},
   "outputs": [
    {
     "name": "stdout",
     "output_type": "stream",
     "text": [
      "\n",
      "1\n",
      "22\n",
      "333\n",
      "4444\n",
      "55555\n",
      "666666\n",
      "7777777\n",
      "88888888\n",
      "999999999\n",
      "Good Day\n"
     ]
    }
   ],
   "source": [
    "for i in range (10):\n",
    "    print (str(i)*i)\n",
    "    \n",
    "print ('Good Day')\n"
   ]
  },
  {
   "cell_type": "code",
   "execution_count": 41,
   "id": "45335943",
   "metadata": {},
   "outputs": [
    {
     "name": "stdout",
     "output_type": "stream",
     "text": [
      "0\n",
      "1\n",
      "4\n",
      "9\n",
      "16\n",
      "25\n",
      "36\n",
      "49\n",
      "64\n",
      "81\n",
      "Good Day\n"
     ]
    }
   ],
   "source": [
    "for i in range (10):\n",
    "    print ((i)*i)\n",
    "    \n",
    "print ('Good Day')"
   ]
  },
  {
   "cell_type": "code",
   "execution_count": 43,
   "id": "df6c5588",
   "metadata": {},
   "outputs": [
    {
     "name": "stdout",
     "output_type": "stream",
     "text": [
      "Pen\n",
      "Pencil\n",
      "Book\n",
      "Toy\n"
     ]
    }
   ],
   "source": [
    "A =  ['Pen','Pencil','Book','Toy']\n",
    "for i in A:\n",
    "    print (i)"
   ]
  },
  {
   "cell_type": "code",
   "execution_count": 42,
   "id": "aa4dbf80",
   "metadata": {},
   "outputs": [
    {
     "name": "stdout",
     "output_type": "stream",
     "text": [
      "Pen\n",
      "    School\n",
      "    College\n",
      "Pencil\n",
      "    School\n",
      "    College\n",
      "Book\n",
      "    School\n",
      "    College\n",
      "Toy\n",
      "    School\n",
      "    College\n"
     ]
    }
   ],
   "source": [
    "A =  ['Pen','Pencil','Book','Toy']\n",
    "B = ['School', 'College']\n",
    "for i in A:\n",
    "    print (i)\n",
    "    for j in B:\n",
    "        print('   ',j)\n"
   ]
  },
  {
   "cell_type": "code",
   "execution_count": 44,
   "id": "97d81db4",
   "metadata": {},
   "outputs": [
    {
     "name": "stdout",
     "output_type": "stream",
     "text": [
      "Pen\n",
      "    School\n",
      "    School\n",
      "    College\n",
      "    College\n",
      "Pencil\n",
      "    School\n",
      "    School\n",
      "    College\n",
      "    College\n",
      "Book\n",
      "    School\n",
      "    School\n",
      "    College\n",
      "    College\n",
      "Toy\n",
      "    School\n",
      "    School\n",
      "    College\n",
      "    College\n"
     ]
    }
   ],
   "source": [
    "A =  ['Pen','Pencil','Book','Toy']\n",
    "B = ['School', 'College']\n",
    "for i in A:\n",
    "    print (i)\n",
    "    for j in B:\n",
    "        print('   ',j)\n",
    "        print('   ',j)"
   ]
  },
  {
   "cell_type": "code",
   "execution_count": 45,
   "id": "2dfd75cc",
   "metadata": {},
   "outputs": [
    {
     "name": "stdout",
     "output_type": "stream",
     "text": [
      "Pen\n",
      "    School\n",
      "    College\n",
      "Pencil\n",
      "    School\n",
      "    College\n",
      "Book\n",
      "    School\n",
      "    College\n",
      "Toy\n",
      "    School\n",
      "    College\n"
     ]
    }
   ],
   "source": [
    "A =  ['Pen','Pencil','Book','Toy']\n",
    "B = ['School', 'College']\n",
    "for i in A:\n",
    "    print (i)\n",
    "    for j in B:\n",
    "        print('   ',j)\n",
    "        continue\n",
    "        print('   ',j)"
   ]
  },
  {
   "cell_type": "code",
   "execution_count": 46,
   "id": "20af68cf",
   "metadata": {},
   "outputs": [
    {
     "name": "stdout",
     "output_type": "stream",
     "text": [
      "Pen\n",
      "    School\n",
      "Pencil\n",
      "    School\n",
      "Book\n",
      "    School\n",
      "Toy\n",
      "    School\n"
     ]
    }
   ],
   "source": [
    "A =  ['Pen','Pencil','Book','Toy']\n",
    "B = ['School', 'College']\n",
    "for i in A:\n",
    "    print (i)\n",
    "    for j in B:\n",
    "        print('   ',j)\n",
    "        break\n",
    "        print('   ',j)"
   ]
  },
  {
   "cell_type": "code",
   "execution_count": 47,
   "id": "3c378a53",
   "metadata": {},
   "outputs": [
    {
     "name": "stdout",
     "output_type": "stream",
     "text": [
      "Pen\n",
      "Pencil\n",
      "Book\n",
      "Toy\n"
     ]
    }
   ],
   "source": [
    "A =  ['Pen','Pencil','Book','Toy']\n",
    "B = ['School', 'College']\n",
    "for i in A:\n",
    "    print (i)\n",
    "    continue\n",
    "    for j in B:\n",
    "        print('   ',j)        \n",
    "        print('   ',j)"
   ]
  },
  {
   "cell_type": "code",
   "execution_count": 48,
   "id": "818f7de9",
   "metadata": {},
   "outputs": [
    {
     "name": "stdout",
     "output_type": "stream",
     "text": [
      "Pen\n"
     ]
    }
   ],
   "source": [
    "A =  ['Pen','Pencil','Book','Toy']\n",
    "B = ['School', 'College']\n",
    "for i in A:\n",
    "    print (i)\n",
    "    break\n",
    "    for j in B:\n",
    "        print('   ',j)        \n",
    "        print('   ',j)"
   ]
  },
  {
   "cell_type": "code",
   "execution_count": 49,
   "id": "6d4d2e27",
   "metadata": {},
   "outputs": [],
   "source": [
    "def sales ():\n",
    "    qty =10\n",
    "    price =50\n",
    "    amt = qty * price\n",
    "    print (amt)\n"
   ]
  },
  {
   "cell_type": "code",
   "execution_count": 50,
   "id": "1da701a2",
   "metadata": {},
   "outputs": [
    {
     "name": "stdout",
     "output_type": "stream",
     "text": [
      "500\n"
     ]
    }
   ],
   "source": [
    "sales ()"
   ]
  },
  {
   "cell_type": "code",
   "execution_count": 51,
   "id": "adc75398",
   "metadata": {},
   "outputs": [
    {
     "name": "stdout",
     "output_type": "stream",
     "text": [
      "500\n"
     ]
    }
   ],
   "source": [
    "sales ()"
   ]
  },
  {
   "cell_type": "code",
   "execution_count": 52,
   "id": "4452fb6c",
   "metadata": {},
   "outputs": [
    {
     "name": "stdout",
     "output_type": "stream",
     "text": [
      "500\n"
     ]
    }
   ],
   "source": [
    "sales()"
   ]
  },
  {
   "cell_type": "code",
   "execution_count": 54,
   "id": "b5937b99",
   "metadata": {},
   "outputs": [],
   "source": [
    "def sales (qty):\n",
    "    price =50\n",
    "    amt = qty * price\n",
    "    print (amt)\n"
   ]
  },
  {
   "cell_type": "code",
   "execution_count": 56,
   "id": "5681a5f5",
   "metadata": {},
   "outputs": [
    {
     "name": "stdout",
     "output_type": "stream",
     "text": [
      "500\n"
     ]
    }
   ],
   "source": [
    "sales(10)"
   ]
  },
  {
   "cell_type": "code",
   "execution_count": 57,
   "id": "f85c5523",
   "metadata": {},
   "outputs": [
    {
     "name": "stdout",
     "output_type": "stream",
     "text": [
      "250\n"
     ]
    }
   ],
   "source": [
    "sales(5)"
   ]
  },
  {
   "cell_type": "code",
   "execution_count": null,
   "id": "e037f6f3",
   "metadata": {},
   "outputs": [],
   "source": [
    "def sales (qty):\n",
    "    price =50\n",
    "    amt = qty * price\n",
    "    print (amt)"
   ]
  },
  {
   "cell_type": "code",
   "execution_count": 58,
   "id": "18306db7",
   "metadata": {},
   "outputs": [],
   "source": [
    "def sales (qty,price):\n",
    "    amt = qty * price\n",
    "    print (amt)"
   ]
  },
  {
   "cell_type": "code",
   "execution_count": 60,
   "id": "dc13fec7",
   "metadata": {},
   "outputs": [
    {
     "name": "stdout",
     "output_type": "stream",
     "text": [
      "250\n"
     ]
    }
   ],
   "source": [
    "sales(5,50)"
   ]
  },
  {
   "cell_type": "code",
   "execution_count": 61,
   "id": "38c07dd6",
   "metadata": {},
   "outputs": [
    {
     "name": "stdout",
     "output_type": "stream",
     "text": [
      "900\n"
     ]
    }
   ],
   "source": [
    "sales (3,300)"
   ]
  },
  {
   "cell_type": "code",
   "execution_count": 63,
   "id": "65664efb",
   "metadata": {},
   "outputs": [],
   "source": [
    "def sales (qty =10,price=50):\n",
    "    amt = qty * price\n",
    "    print (amt)"
   ]
  },
  {
   "cell_type": "code",
   "execution_count": 64,
   "id": "86480b50",
   "metadata": {},
   "outputs": [
    {
     "name": "stdout",
     "output_type": "stream",
     "text": [
      "500\n"
     ]
    }
   ],
   "source": [
    "sales ()"
   ]
  },
  {
   "cell_type": "code",
   "execution_count": 66,
   "id": "8237f42a",
   "metadata": {},
   "outputs": [],
   "source": [
    "def sales (qty =10,price=50):\n",
    "    amt = qty * price\n",
    "    print (amt)"
   ]
  },
  {
   "cell_type": "code",
   "execution_count": 67,
   "id": "29cd9714",
   "metadata": {},
   "outputs": [
    {
     "name": "stdout",
     "output_type": "stream",
     "text": [
      "250\n"
     ]
    }
   ],
   "source": [
    "sales (5)"
   ]
  },
  {
   "cell_type": "code",
   "execution_count": 68,
   "id": "db9d46c7",
   "metadata": {},
   "outputs": [
    {
     "name": "stdout",
     "output_type": "stream",
     "text": [
      "5000\n"
     ]
    }
   ],
   "source": [
    "sales (100)"
   ]
  },
  {
   "cell_type": "code",
   "execution_count": 69,
   "id": "8532c32d",
   "metadata": {},
   "outputs": [],
   "source": [
    "def sales (qty =10,price=50):\n",
    "    amt = qty * price\n",
    "    print (amt)"
   ]
  },
  {
   "cell_type": "code",
   "execution_count": 70,
   "id": "2da96395",
   "metadata": {},
   "outputs": [
    {
     "name": "stdout",
     "output_type": "stream",
     "text": [
      "1000\n"
     ]
    }
   ],
   "source": [
    "sales (price =100)"
   ]
  },
  {
   "cell_type": "code",
   "execution_count": 71,
   "id": "02cc34db",
   "metadata": {},
   "outputs": [],
   "source": [
    "def sales (qty =10,price=50):\n",
    "    amt = qty * price\n",
    "    print (amt)"
   ]
  },
  {
   "cell_type": "code",
   "execution_count": 72,
   "id": "55054ca8",
   "metadata": {},
   "outputs": [
    {
     "name": "stdout",
     "output_type": "stream",
     "text": [
      "500\n"
     ]
    }
   ],
   "source": [
    "sales ()"
   ]
  },
  {
   "cell_type": "code",
   "execution_count": 73,
   "id": "73c82772",
   "metadata": {},
   "outputs": [
    {
     "name": "stdout",
     "output_type": "stream",
     "text": [
      "1000\n"
     ]
    }
   ],
   "source": [
    "sales (20)"
   ]
  },
  {
   "cell_type": "code",
   "execution_count": 74,
   "id": "a01ea095",
   "metadata": {},
   "outputs": [
    {
     "name": "stdout",
     "output_type": "stream",
     "text": [
      "500\n",
      "None\n"
     ]
    }
   ],
   "source": [
    "s1 = sales ()\n",
    "print (s1)"
   ]
  },
  {
   "cell_type": "code",
   "execution_count": 75,
   "id": "c81853ce",
   "metadata": {},
   "outputs": [
    {
     "name": "stdout",
     "output_type": "stream",
     "text": [
      "150\n",
      "None\n"
     ]
    }
   ],
   "source": [
    "s2 = sales (5,30)\n",
    "print (s2)"
   ]
  },
  {
   "cell_type": "code",
   "execution_count": 76,
   "id": "d7ca1697",
   "metadata": {},
   "outputs": [],
   "source": [
    "def sales (qty =10,price=50):\n",
    "    amt = qty * price\n",
    "    print (amt)\n",
    "    return (amt)"
   ]
  },
  {
   "cell_type": "code",
   "execution_count": 77,
   "id": "1cb5930d",
   "metadata": {},
   "outputs": [
    {
     "name": "stdout",
     "output_type": "stream",
     "text": [
      "150\n",
      "150\n"
     ]
    }
   ],
   "source": [
    "s2 = sales (5,30)\n",
    "print (s2)"
   ]
  },
  {
   "cell_type": "code",
   "execution_count": 78,
   "id": "c55bd029",
   "metadata": {},
   "outputs": [
    {
     "name": "stdout",
     "output_type": "stream",
     "text": [
      "500\n",
      "500\n"
     ]
    }
   ],
   "source": [
    "s1 = sales ()\n",
    "print (s1)"
   ]
  },
  {
   "cell_type": "code",
   "execution_count": 79,
   "id": "d72fc9cd",
   "metadata": {},
   "outputs": [
    {
     "name": "stdout",
     "output_type": "stream",
     "text": [
      "150\n"
     ]
    }
   ],
   "source": [
    "print (s2)"
   ]
  },
  {
   "cell_type": "code",
   "execution_count": 80,
   "id": "fe7f1abb",
   "metadata": {},
   "outputs": [],
   "source": [
    "def sales (qty =10,price=50):\n",
    "    amt = qty * price\n",
    "    print (amt)\n",
    "    return (amt)"
   ]
  },
  {
   "cell_type": "code",
   "execution_count": 81,
   "id": "9c5c4efe",
   "metadata": {},
   "outputs": [
    {
     "name": "stdout",
     "output_type": "stream",
     "text": [
      "500\n",
      "[500]\n"
     ]
    }
   ],
   "source": [
    "sls = []\n",
    "sls.append (sales ())\n",
    "print (sls)"
   ]
  },
  {
   "cell_type": "code",
   "execution_count": 82,
   "id": "fb3644e6",
   "metadata": {},
   "outputs": [
    {
     "name": "stdout",
     "output_type": "stream",
     "text": [
      "100\n",
      "[500, 100]\n"
     ]
    }
   ],
   "source": [
    "\n",
    "sls.append (sales (5,20))\n",
    "print (sls)"
   ]
  },
  {
   "cell_type": "code",
   "execution_count": 83,
   "id": "0f5a3cf2",
   "metadata": {},
   "outputs": [
    {
     "name": "stdout",
     "output_type": "stream",
     "text": [
      "[500, 100]\n"
     ]
    }
   ],
   "source": [
    "print (sls)"
   ]
  },
  {
   "cell_type": "code",
   "execution_count": 84,
   "id": "30f249d3",
   "metadata": {},
   "outputs": [],
   "source": [
    "\n",
    "def financials (revenue,expenses):\n",
    "    \"\"\" This function is used to calculate profit and profit ratio\"\"\"\n",
    "    profit = revenue -expenses\n",
    "    profit_ratio = profit/revenue \n",
    "    new_financials = (profit ,profit_ratio)\n",
    "    return (new_financials)\n"
   ]
  },
  {
   "cell_type": "code",
   "execution_count": 85,
   "id": "7493ac98",
   "metadata": {},
   "outputs": [
    {
     "data": {
      "text/plain": [
       "(100, 0.1)"
      ]
     },
     "execution_count": 85,
     "metadata": {},
     "output_type": "execute_result"
    }
   ],
   "source": [
    "financials (1000,900)"
   ]
  },
  {
   "cell_type": "code",
   "execution_count": 86,
   "id": "1842d198",
   "metadata": {},
   "outputs": [],
   "source": [
    "\n",
    "def financials (revenue,expenses):\n",
    "    \"\"\" This function is used to calculate profit and profit ratio\"\"\"\n",
    "    profit = revenue -expenses\n",
    "    profit_ratio = profit/revenue \n",
    "    new_financials = (profit ,profit_ratio)\n",
    "    return (new_financials)\n",
    "\n"
   ]
  },
  {
   "cell_type": "code",
   "execution_count": 87,
   "id": "45088751",
   "metadata": {},
   "outputs": [
    {
     "data": {
      "text/plain": [
       "(100, 0.1)"
      ]
     },
     "execution_count": 87,
     "metadata": {},
     "output_type": "execute_result"
    }
   ],
   "source": [
    "x = financials (1000,900)\n",
    "x"
   ]
  },
  {
   "cell_type": "code",
   "execution_count": 88,
   "id": "05a54cd7",
   "metadata": {},
   "outputs": [
    {
     "name": "stdout",
     "output_type": "stream",
     "text": [
      "Profit  100\n",
      "Profit Ratio  0.1\n"
     ]
    }
   ],
   "source": [
    "x = financials (1000,900)\n",
    "print ('Profit ', x[0] )\n",
    "print ('Profit Ratio ', x[1] )\n"
   ]
  },
  {
   "cell_type": "code",
   "execution_count": 89,
   "id": "784d00ec",
   "metadata": {},
   "outputs": [],
   "source": [
    "def convertto (deg):\n",
    "    F= (deg*9/5)+32\n",
    "    return (F)\n"
   ]
  },
  {
   "cell_type": "code",
   "execution_count": 90,
   "id": "831c83e4",
   "metadata": {},
   "outputs": [
    {
     "data": {
      "text/plain": [
       "104.0"
      ]
     },
     "execution_count": 90,
     "metadata": {},
     "output_type": "execute_result"
    }
   ],
   "source": [
    "convertto (40)"
   ]
  },
  {
   "cell_type": "code",
   "execution_count": 91,
   "id": "0c0b4b87",
   "metadata": {},
   "outputs": [
    {
     "data": {
      "text/plain": [
       "82.4"
      ]
     },
     "execution_count": 91,
     "metadata": {},
     "output_type": "execute_result"
    }
   ],
   "source": [
    "convertto (28)"
   ]
  },
  {
   "cell_type": "code",
   "execution_count": 92,
   "id": "b1e74c78",
   "metadata": {},
   "outputs": [
    {
     "name": "stdout",
     "output_type": "stream",
     "text": [
      "100.4\n"
     ]
    }
   ],
   "source": [
    "temp = 38\n",
    "temp= convertto (temp)\n",
    "print (temp)\n",
    "\n"
   ]
  }
 ],
 "metadata": {
  "kernelspec": {
   "display_name": "Python 3 (ipykernel)",
   "language": "python",
   "name": "python3"
  },
  "language_info": {
   "codemirror_mode": {
    "name": "ipython",
    "version": 3
   },
   "file_extension": ".py",
   "mimetype": "text/x-python",
   "name": "python",
   "nbconvert_exporter": "python",
   "pygments_lexer": "ipython3",
   "version": "3.11.5"
  }
 },
 "nbformat": 4,
 "nbformat_minor": 5
}
