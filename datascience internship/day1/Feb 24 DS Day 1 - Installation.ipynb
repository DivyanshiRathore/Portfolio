{
 "cells": [
  {
   "cell_type": "code",
   "execution_count": 14,
   "id": "1a460892",
   "metadata": {},
   "outputs": [
    {
     "name": "stdout",
     "output_type": "stream",
     "text": [
      "100\n"
     ]
    }
   ],
   "source": [
    "a = 60\n",
    "b = 40\n",
    "c = a+b \n",
    "print (c)"
   ]
  },
  {
   "cell_type": "code",
   "execution_count": 3,
   "id": "e5fad912",
   "metadata": {},
   "outputs": [
    {
     "data": {
      "text/plain": [
       "'\\nCTRL+ENTR\\n# SHIFT+ENTR\\nALT+ENTR\\n'"
      ]
     },
     "execution_count": 3,
     "metadata": {},
     "output_type": "execute_result"
    }
   ],
   "source": [
    "'''\n",
    "CTRL+ENTR\n",
    "# SHIFT+ENTR\n",
    "ALT+ENTR\n",
    "'''"
   ]
  },
  {
   "cell_type": "code",
   "execution_count": 12,
   "id": "bf9b32a8",
   "metadata": {},
   "outputs": [],
   "source": [
    "a =60"
   ]
  },
  {
   "cell_type": "code",
   "execution_count": 13,
   "id": "1ec0db46",
   "metadata": {},
   "outputs": [],
   "source": [
    "b =40"
   ]
  },
  {
   "cell_type": "code",
   "execution_count": 10,
   "id": "f475debc",
   "metadata": {},
   "outputs": [],
   "source": [
    "c = a+b"
   ]
  },
  {
   "cell_type": "code",
   "execution_count": 11,
   "id": "11221ff5",
   "metadata": {},
   "outputs": [
    {
     "name": "stdout",
     "output_type": "stream",
     "text": [
      "100\n"
     ]
    }
   ],
   "source": [
    "print (c)"
   ]
  },
  {
   "cell_type": "code",
   "execution_count": 15,
   "id": "7da9949e",
   "metadata": {},
   "outputs": [],
   "source": [
    "c = a+b "
   ]
  },
  {
   "cell_type": "code",
   "execution_count": null,
   "id": "da00fc4b",
   "metadata": {},
   "outputs": [],
   "source": [
    "'''\n",
    "CTRL+ENTR\n",
    "# SHIFT+ENTR\n",
    "ALT+ENTR\n",
    "'''"
   ]
  },
  {
   "cell_type": "code",
   "execution_count": null,
   "id": "c6d5cc7e",
   "metadata": {},
   "outputs": [],
   "source": []
  },
  {
   "cell_type": "code",
   "execution_count": 14,
   "id": "b688c9a8",
   "metadata": {},
   "outputs": [
    {
     "name": "stdout",
     "output_type": "stream",
     "text": [
      "100\n"
     ]
    }
   ],
   "source": [
    "a = 60\n",
    "b = 40\n",
    "c = a+b \n",
    "print (c)"
   ]
  }
 ],
 "metadata": {
  "kernelspec": {
   "display_name": "Python 3 (ipykernel)",
   "language": "python",
   "name": "python3"
  },
  "language_info": {
   "codemirror_mode": {
    "name": "ipython",
    "version": 3
   },
   "file_extension": ".py",
   "mimetype": "text/x-python",
   "name": "python",
   "nbconvert_exporter": "python",
   "pygments_lexer": "ipython3",
   "version": "3.9.15"
  }
 },
 "nbformat": 4,
 "nbformat_minor": 5
}
